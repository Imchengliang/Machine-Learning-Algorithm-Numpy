{
 "cells": [
  {
   "cell_type": "markdown",
   "metadata": {},
   "source": [
    "## Lasso"
   ]
  },
  {
   "cell_type": "markdown",
   "metadata": {},
   "source": [
    "Regularization is one of the most significant method to prevent model overfitting. In general, all supervised machine algorithms are regularizing parameters while minimizing the empirical error function. Minimizing the empirical error is to fit the training data to a great extent, and the parameter-regularization is to prevent overfitting the training data. The core principle of supervised machine learning is the following formula:\n",
    "$$\n",
    "\\text{min}\\frac{1}{N}\\sum ^{N}_{i=1}L(y_{i}, f(x_{i}))+ \\lambda J(f)\n",
    "$$"
   ]
  },
  {
   "cell_type": "markdown",
   "metadata": {},
   "source": [
    "The second term of the formula above is regulation, and $\\lambda$ is the regulation parameter, which is usually larger than 0 and is used to adjust the relationship between empirical error term and regulation term. When $\\lambda = 0$, there is no regulation term in the formula and the model will spend all effort on minimizing the empirical error, which can easily cause model overfitting. As $\\lambda$ to be larger, regulation term plays a more and more important role in the model and the punishment for model complexity would be heavier as well. In the actual training process, $\\lambda$ as a hyperparameter largely determines the efficiency of the model."
   ]
  },
  {
   "cell_type": "markdown",
   "metadata": {},
   "source": [
    "For regulation, the most commonly used are L1 and L2 regulation. In addition to these two, there is also L0 regulation, which is the number of non-zero element on the matrix. Its gaol is to make the element in the regulation parameter matrix to be 0 as more as possible. In the field of machine learning, both L0 and L1 can achieve matrix sparsity, but in practice, L1 has better generalized solving properties. The L1 norm is the sum of the absolute values of the elements in the matrix, which is usually used to achieve the sparsity of the parameter matrix."
   ]
  },
  {
   "cell_type": "markdown",
   "metadata": {},
   "source": [
    "The full name of Lasso is called Least absolute shrinkage and selection operator. Its essence is to add an L1 regularization constraint to the parameters on the basis of conventional linear regression. Its form is as follows:\n",
    "$$\n",
    "\\text{min}\\frac{1}{N}\\sum ^{N}_{i=1}L(y_{i}, f(x_{i}))+ \\lambda ||w||_{1}\n",
    "$$"
   ]
  },
  {
   "cell_type": "code",
   "execution_count": 27,
   "metadata": {},
   "outputs": [
    {
     "name": "stdout",
     "output_type": "stream",
     "text": [
      "(70, 101) (70, 1) (31, 101) (31, 1)\n"
     ]
    }
   ],
   "source": [
    "import numpy as np\n",
    "import pandas as pd\n",
    "import matplotlib.pyplot as plt\n",
    "\n",
    "data = np.genfromtxt('data.dat', delimiter = ',')\n",
    "x = data[:,0:100]\n",
    "y = data[:,100].reshape(-1, 1)\n",
    "# add a column\n",
    "X = np.column_stack((np.ones((x.shape[0], 1)), x))\n",
    "\n",
    "# split training and test set\n",
    "X_train, y_train = X[:70], y[:70]\n",
    "X_test, y_test = X[70:], y[70:]\n",
    "print(X_train.shape, y_train.shape, X_test.shape, y_test.shape)"
   ]
  },
  {
   "cell_type": "code",
   "execution_count": 16,
   "metadata": {},
   "outputs": [],
   "source": [
    "# initialize the parameter\n",
    "def initialize(dims):\n",
    "    w = np.zeros((dims, 1)) \n",
    "    b=0\n",
    "    return w, b"
   ]
  },
  {
   "cell_type": "code",
   "execution_count": 17,
   "metadata": {},
   "outputs": [],
   "source": [
    "# define sign function\n",
    "def sign(x): \n",
    "    if x > 0:\n",
    "        return 1 \n",
    "    elif x < 0:\n",
    "        return -1 \n",
    "    else:\n",
    "        return 0"
   ]
  },
  {
   "cell_type": "code",
   "execution_count": 18,
   "metadata": {},
   "outputs": [
    {
     "data": {
      "text/plain": [
       "array([[0],\n",
       "       [0],\n",
       "       [0]])"
      ]
     },
     "execution_count": 18,
     "metadata": {},
     "output_type": "execute_result"
    }
   ],
   "source": [
    "# vectorize sign function\n",
    "vec_sign = np.vectorize(sign)\n",
    "vec_sign(np.zeros((3,1)))"
   ]
  },
  {
   "cell_type": "code",
   "execution_count": 19,
   "metadata": {},
   "outputs": [],
   "source": [
    "# define lasso loss function\n",
    "def l1_loss(X, y, w, b, alpha):\n",
    "    num_train = X.shape[0]\n",
    "    num_feature = X.shape[1]\n",
    "    # model function\n",
    "    y_hat = np.dot(X, w) + b\n",
    "    # loss function\n",
    "    loss = np.sum((y_hat-y)**2)/num_train + np.sum(alpha*abs(w))\n",
    "    # partial derivatives of parameters\n",
    "    dw = np.dot(X.T, (y_hat-y))/num_train + alpha*vec_sign(w)\n",
    "    db = np.sum((y_hat-y)) / num_train\n",
    "    return y_hat, loss, dw, db"
   ]
  },
  {
   "cell_type": "code",
   "execution_count": 20,
   "metadata": {},
   "outputs": [],
   "source": [
    "# define training process\n",
    "def lasso_train(X, y, learning_rate=0.01, epochs=300):\n",
    "    w, b = initialize(X.shape[1])\n",
    "    loss_list = []\n",
    "    for i in range(1, epochs):\n",
    "        # calculate the current estimation, loss, and partial derivatives\n",
    "        y_hat, loss, dw, db = l1_loss(X, y, w ,b, 0.1)\n",
    "        loss_list.append(loss)\n",
    "        # update parameters based on gradient descent\n",
    "        w += -learning_rate * dw\n",
    "        b += -learning_rate * db\n",
    "\n",
    "        if i % 50 == 0:\n",
    "            print('epoch %d loss %f' % (i, loss))\n",
    "\n",
    "        # save parameters\n",
    "        params = {'w':w, 'b':b}\n",
    "        # save gradient\n",
    "        grads = {'dw':dw, 'db':db}\n",
    "\n",
    "    return loss_list, loss, params, grads"
   ]
  },
  {
   "cell_type": "code",
   "execution_count": 21,
   "metadata": {},
   "outputs": [
    {
     "name": "stdout",
     "output_type": "stream",
     "text": [
      "epoch 50 loss 3.197738\n",
      "epoch 100 loss 2.297934\n",
      "epoch 150 loss 1.990075\n",
      "epoch 200 loss 1.832027\n",
      "epoch 250 loss 1.734467\n",
      "epoch 300 loss 1.673867\n",
      "epoch 350 loss 1.634849\n",
      "epoch 400 loss 1.608013\n",
      "epoch 450 loss 1.589218\n"
     ]
    }
   ],
   "source": [
    "loss_list, loss, params, grads = lasso_train(X_train, y_train, 0.01, 500)"
   ]
  },
  {
   "cell_type": "code",
   "execution_count": 23,
   "metadata": {},
   "outputs": [],
   "source": [
    "# define prediction function\n",
    "def predict(X, params): \n",
    "        w = params['w']\n",
    "        b = params['b']\n",
    "        y_pred = np.dot(X, w) + b \n",
    "        return y_pred"
   ]
  },
  {
   "cell_type": "code",
   "execution_count": 24,
   "metadata": {},
   "outputs": [
    {
     "name": "stdout",
     "output_type": "stream",
     "text": [
      "[[-0.01480912]\n",
      " [-2.74362623]\n",
      " [ 0.87516961]\n",
      " [-0.63294365]\n",
      " [-3.6281708 ]] [[ 0.24671]\n",
      " [-4.25711]\n",
      " [ 2.38642]\n",
      " [-1.87815]\n",
      " [-3.41362]]\n"
     ]
    }
   ],
   "source": [
    "y_pred = predict(X_test, params)\n",
    "print(y_pred[:5], y_test[:5])"
   ]
  },
  {
   "cell_type": "code",
   "execution_count": 25,
   "metadata": {},
   "outputs": [
    {
     "data": {
      "text/plain": [
       "0.15267252949629784"
      ]
     },
     "execution_count": 25,
     "metadata": {},
     "output_type": "execute_result"
    }
   ],
   "source": [
    "from sklearn.metrics import r2_score\n",
    "r2_score(y_pred, y_test)"
   ]
  },
  {
   "cell_type": "code",
   "execution_count": 28,
   "metadata": {},
   "outputs": [
    {
     "data": {
      "image/png": "[encoded data removed]",
      "text/plain": [
       "<Figure size 432x288 with 1 Axes>"
      ]
     },
     "metadata": {
      "needs_background": "light"
     },
     "output_type": "display_data"
    }
   ],
   "source": [
    "# plot the prediction and actual data\n",
    "f = X_test.dot(params['w']) + params['b']\n",
    "plt.scatter(range(X_test.shape[0]), y_test)\n",
    "plt.plot(f, color = 'darkorange')\n",
    "plt.xlabel('X')\n",
    "plt.ylabel('y')\n",
    "plt.show()"
   ]
  },
  {
   "cell_type": "code",
   "execution_count": 29,
   "metadata": {},
   "outputs": [
    {
     "data": {
      "image/png": "[encoded data removed]",
      "text/plain": [
       "<Figure size 432x288 with 1 Axes>"
      ]
     },
     "metadata": {
      "needs_background": "light"
     },
     "output_type": "display_data"
    }
   ],
   "source": [
    "# plot the decline of loss during the training\n",
    "plt.plot(loss_list, color = 'blue')\n",
    "plt.xlabel('epochs')\n",
    "plt.ylabel('loss')\n",
    "plt.show()"
   ]
  },
  {
   "cell_type": "markdown",
   "metadata": {},
   "source": [
    "Under the constraint of L1, the coefficients of many features with low label contribution rate become 0 during the training process. This is what L1 does, which can perform feature selection and achieve sparseness to a certain extent."
   ]
  },
  {
   "cell_type": "code",
   "execution_count": 22,
   "metadata": {},
   "outputs": [
    {
     "name": "stdout",
     "output_type": "stream",
     "text": [
      "sklearn Lasso intercept : [-0.23824815]\n",
      "\n",
      "sklearn Lasso coefficients :\n",
      " [ 0.         -0.          0.59804516  0.64230683  0.          1.0070841\n",
      " -0.          0.81815409 -0.22756851  0.          0.          0.793601\n",
      "  0.          0.74108335 -0.         -0.1250168  -0.          0.79407074\n",
      "  0.          0.81867433  0.          0.         -0.          0.56664364\n",
      " -0.         -0.         -0.         -0.         -0.          0.49526526\n",
      "  0.          0.          0.          0.         -0.         -0.\n",
      " -0.         -0.         -0.         -0.          0.         -0.\n",
      "  0.         -0.         -0.0078254   0.          0.         -0.\n",
      " -0.          0.01986066  0.         -0.          0.         -0.\n",
      "  0.         -0.06797763  0.24581414  0.         -0.04180909 -0.\n",
      "  0.10542471  0.03156005  0.          0.          0.         -0.\n",
      " -0.          0.         -0.          0.12548825  0.2340209  -0.\n",
      "  0.          0.16875552  0.          0.01596168  0.         -0.\n",
      "  0.          0.         -0.          0.20050804 -0.         -0.\n",
      "  0.         -0.04148499 -0.10729826 -0.          0.02385741 -0.10792259\n",
      " -0.         -0.          0.12314032  0.          0.         -0.05876521\n",
      " -0.          0.09361648 -0.         -0.17806356  0.06636851]\n",
      "\n",
      "sklearn Lasso number of iterations : 24\n"
     ]
    }
   ],
   "source": [
    "# lasso in sklearn\n",
    "from sklearn import linear_model\n",
    "\n",
    "sk_lasso = linear_model.Lasso(alpha=0.1)\n",
    "\n",
    "sk_lasso.fit(X_train, y_train)\n",
    "print(\"sklearn Lasso intercept :\", sk_lasso.intercept_)\n",
    "print(\"\\nsklearn Lasso coefficients :\\n\", sk_lasso.coef_)\n",
    "print(\"\\nsklearn Lasso number of iterations :\", sk_lasso.n_iter_)"
   ]
  }
 ],
 "metadata": {
  "kernelspec": {
   "display_name": "Python 3.8.2 64-bit",
   "language": "python",
   "name": "python3"
  },
  "language_info": {
   "codemirror_mode": {
    "name": "ipython",
    "version": 3
   },
   "file_extension": ".py",
   "mimetype": "text/x-python",
   "name": "python",
   "nbconvert_exporter": "python",
   "pygments_lexer": "ipython3",
   "version": "3.8.2"
  },
  "orig_nbformat": 4,
  "vscode": {
   "interpreter": {
    "hash": "aee8b7b246df8f9039afb4144a1f6fd8d2ca17a180786b69acc140d282b71a49"
   }
  }
 },
 "nbformat": 4,
 "nbformat_minor": 2
}
