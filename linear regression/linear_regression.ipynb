{
 "cells": [
  {
   "cell_type": "markdown",
   "metadata": {},
   "source": [
    "## Linear Regression\n",
    "\n",
    "Linear regression assumes that features and outcomes satisfy a linear relationship. The expressive ability of linear relationship is strong. The influence of each feature on the result can be reflected by its parameter. \n",
    "\n",
    "And each feature variable can be mapped to a function first, and then participate in the linear calculation. In this way, a nonlinear relationship between features and results can be expressed.\n",
    "\n",
    "The linear model can be expressed as $f(X)=W^{T}X+b$ \n",
    "\n",
    "$b$ (bias parameter): compensates for the difference between the mean of the target values and the weighted mean of the basis function values\n",
    "\n",
    "The goal is that the predicted value from model can be infinitely close to the true value: $f(x_{i}) \\approx y_{i}$  \n",
    "\n",
    "The reason for we want infinitely close but not exactly the same is that we can only learn part of the data sampled from all the data of a certain type of event, the sampled data cannot cover all the possibilities of the event, so we can only learn the overall law in the end."
   ]
  },
  {
   "cell_type": "code",
   "execution_count": 1,
   "metadata": {},
   "outputs": [],
   "source": [
    "import numpy as np"
   ]
  },
  {
   "cell_type": "code",
   "execution_count": 2,
   "metadata": {},
   "outputs": [],
   "source": [
    "def initialize_params(dims):\n",
    "    w = np.zeros((dims, 1))\n",
    "    b = 0\n",
    "    return w, b"
   ]
  },
  {
   "cell_type": "markdown",
   "metadata": {},
   "source": [
    "Here we use MSE to measure the difference between $\\hat{y}$ and $y$: $\\mathrm{MSE}=\\frac{1}{n} \\sum_{i=1}^{n}\\left(f(x_{i})-y_{i}\\right)^{2}=\\frac{1}{n} \\sum_{i=1}^{n}\\left(\\hat{y}_{i}-y_{i}\\right)^{2}$\n",
    "\n",
    "The difference can be positive or negative so using square can erase the effect of positive and negative. After the square is used, the error out of -1 and 1 will be enlarged, and the error between -1 and 1 will be reduced at the same time. And it's unable to handle when measures vary widely across dimensions, so we have to normalize the data before modeling.\n",
    "\n",
    "Derivation Process of Parameter Estimation in Linear Regression Model:\n",
    "\n",
    "$\\left(w^{*}, b^{*}\\right) =\\underset{(w, b)}{\\arg \\min } \\sum_{i=1}^{m}\\left(f\\left(x_{i}\\right)-y_{i}\\right)^{2} =\\underset{(w, b)}{\\arg \\min } \\sum_{i=1}^{m}\\left(y_{i}-w x_{i}-b\\right)^{2}$\n",
    "\n",
    "$\\frac{\\partial E_{(w, b)}}{\\partial w}=2\\left(w \\sum_{i=1}^{m} x_{i}^{2}-\\sum_{i=1}^{m}\\left(y_{i}-b\\right) x_{i}\\right), \\quad$\n",
    "$\\frac{\\partial E_{(w, b)}}{\\partial b}=2\\left(m b-\\sum_{i=1}^{m}\\left(y_{i}-w x_{i}\\right)\\right)$\n",
    "\n",
    "$w=\\frac{\\sum_{i=1}^{m} y_{i}\\left(x_{i}-\\bar{x}\\right)}{\\sum_{i=1}^{m} x_{i}^{2}-\\frac{1}{m}\\left(\\sum_{i=1}^{m} x_{i}\\right)^{2}}, \\quad$\n",
    "$b=\\frac{1}{m} \\sum_{i=1}^{m}\\left(y_{i}-w x_{i}\\right)$\n",
    "\n",
    "In matrix:\n",
    "\n",
    "$w^{\\prime} = 2X^{T}(Y-Xw) = 2X^{T}Y-2X^{T}Xw = 0$\n",
    "\n",
    "$2X^{T}Y = 2X^{T}Xw \\rightarrow \\hat{w} = (X^{T}X)^{-1}X^{T}Y$\n",
    "\n",
    "$X^{T}X$ usually isn't a full-rank matrix in reality so we need to apply regularization on it\n",
    "\n",
    "$\\hat{w} = (X^{T}X+ \\lambda I)^{-1}X^{T}Y$\n",
    "\n"
   ]
  },
  {
   "cell_type": "code",
   "execution_count": 3,
   "metadata": {},
   "outputs": [],
   "source": [
    "def linear_loss(X, y, w, b):\n",
    "    num_train = X.shape[0]\n",
    "    num_feature = X.shape[1]\n",
    "    # model function\n",
    "    y_hat = np.dot(X, w) + b\n",
    "    # loss function\n",
    "    loss = np.sum((y_hat-y)**2) / num_train\n",
    "    # partial derivatives of parameters\n",
    "    dw = np.dot(X.T, (y_hat-y)) / num_train\n",
    "    db = np.sum((y_hat-y)) / num_train\n",
    "    return y_hat, loss, dw, db"
   ]
  },
  {
   "cell_type": "markdown",
   "metadata": {},
   "source": [
    "Update parameters based on gradient descent: multiple iterations are required to converge to the global minimum and a proper learning rate is necessary, but under this method, $(X^{T}X)^{-1}$ isn't required to be calculated."
   ]
  },
  {
   "cell_type": "code",
   "execution_count": 4,
   "metadata": {},
   "outputs": [],
   "source": [
    "def linear_train(X, y, learning_rate, epochs):\n",
    "    w, b = initialize_params(X.shape[1])\n",
    "    loss_list = []\n",
    "    for i in range(1, epochs):\n",
    "        # calculate the current estimation, loss, and partial derivatives\n",
    "        y_hat, loss, dw, db = linear_loss(X, y, w ,b)\n",
    "        loss_list.append(loss)\n",
    "        # update parameters based on gradient descent\n",
    "        w += -learning_rate * dw\n",
    "        b += -learning_rate * db\n",
    "\n",
    "        if i % 10000 == 0:\n",
    "            print('epoch %d loss %f' % (i, loss))\n",
    "\n",
    "        # save parameters\n",
    "        params = {'w':w, 'b':b}\n",
    "        # save gradient\n",
    "        grads = {'dw':dw, 'db':db}\n",
    "\n",
    "    return loss_list, loss, params, grads"
   ]
  },
  {
   "cell_type": "code",
   "execution_count": 5,
   "metadata": {},
   "outputs": [],
   "source": [
    "from sklearn.datasets import load_diabetes \n",
    "from sklearn.utils import shuffle\n",
    "\n",
    "diabetes = load_diabetes() \n",
    "data = diabetes.data \n",
    "target = diabetes.target"
   ]
  },
  {
   "cell_type": "code",
   "execution_count": 6,
   "metadata": {},
   "outputs": [],
   "source": [
    "# shuffle the data\n",
    "X, y = shuffle(data, target, random_state=13)\n",
    "X = X.astype(np.float32)"
   ]
  },
  {
   "cell_type": "code",
   "execution_count": 7,
   "metadata": {},
   "outputs": [
    {
     "name": "stdout",
     "output_type": "stream",
     "text": [
      "X_train= (397, 10)\n",
      "X_test= (45, 10)\n",
      "y_train= (397, 1)\n",
      "y_test= (45, 1)\n"
     ]
    }
   ],
   "source": [
    "# divide the train and test data set\n",
    "offset = int(X.shape[0] * 0.9)\n",
    "X_train, y_train = X[:offset], y[:offset]\n",
    "X_test, y_test = X[offset:], y[offset:]\n",
    "y_train = y_train.reshape((-1,1))\n",
    "y_test = y_test.reshape((-1,1))\n",
    "\n",
    "print('X_train=', X_train.shape) \n",
    "print('X_test=', X_test.shape) \n",
    "print('y_train=', y_train.shape) \n",
    "print('y_test=', y_test.shape)"
   ]
  },
  {
   "cell_type": "code",
   "execution_count": 8,
   "metadata": {},
   "outputs": [
    {
     "name": "stdout",
     "output_type": "stream",
     "text": [
      "epoch 10000 loss 5533.039734\n",
      "epoch 20000 loss 5217.582409\n",
      "epoch 30000 loss 4949.676466\n",
      "epoch 40000 loss 4721.504031\n",
      "epoch 50000 loss 4526.567333\n",
      "epoch 60000 loss 4359.463960\n",
      "epoch 70000 loss 4215.700505\n",
      "epoch 80000 loss 4091.538010\n",
      "epoch 90000 loss 3983.863771\n"
     ]
    }
   ],
   "source": [
    "loss_list, loss, params, grads = linear_train(X_train, y_train, 0.001, 100000)"
   ]
  },
  {
   "cell_type": "code",
   "execution_count": 9,
   "metadata": {},
   "outputs": [
    {
     "name": "stdout",
     "output_type": "stream",
     "text": [
      "{'w': array([[  44.07229775],\n",
      "       [  -6.99872355],\n",
      "       [ 157.0665895 ],\n",
      "       [ 118.32921584],\n",
      "       [  37.47920655],\n",
      "       [  24.97681831],\n",
      "       [-104.31188822],\n",
      "       [ 104.03504877],\n",
      "       [ 148.85521477],\n",
      "       [  94.07047013]]), 'b': 151.57222424703687}\n"
     ]
    }
   ],
   "source": [
    "# check the parameters of regression model\n",
    "print(params)"
   ]
  },
  {
   "cell_type": "code",
   "execution_count": 10,
   "metadata": {},
   "outputs": [
    {
     "data": {
      "text/plain": [
       "array([[132.02545017],\n",
       "       [141.77423134],\n",
       "       [150.48352021],\n",
       "       [128.48666753],\n",
       "       [147.29312454]])"
      ]
     },
     "execution_count": 10,
     "metadata": {},
     "output_type": "execute_result"
    }
   ],
   "source": [
    "# predict the test result\n",
    "def predict(X, params): \n",
    "    w = params['w']\n",
    "    b = params['b']\n",
    "    y_pred = np.dot(X, w) + b \n",
    "    return y_pred\n",
    "    \n",
    "y_pred = predict(X_test, params) \n",
    "y_pred[:5]"
   ]
  },
  {
   "cell_type": "code",
   "execution_count": 12,
   "metadata": {},
   "outputs": [
    {
     "data": {
      "image/png": "[encoded data removed]",
      "text/plain": [
       "<Figure size 432x288 with 1 Axes>"
      ]
     },
     "metadata": {
      "needs_background": "light"
     },
     "output_type": "display_data"
    }
   ],
   "source": [
    "# visualize the prediction and real test result\n",
    "import matplotlib.pyplot as plt\n",
    "f = X_test.dot(params['w']) + params['b']\n",
    "plt.scatter(range(X_test.shape[0]), y_test) \n",
    "plt.plot(f, color = 'darkorange') \n",
    "plt.xlabel('X')\n",
    "plt.ylabel('y')\n",
    "plt.show()"
   ]
  },
  {
   "cell_type": "code",
   "execution_count": 13,
   "metadata": {},
   "outputs": [
    {
     "data": {
      "image/png": "[encoded data removed]",
      "text/plain": [
       "<Figure size 432x288 with 1 Axes>"
      ]
     },
     "metadata": {
      "needs_background": "light"
     },
     "output_type": "display_data"
    }
   ],
   "source": [
    "# plot the loss during training\n",
    "plt.plot(loss_list, color = 'blue') \n",
    "plt.xlabel('epochs') \n",
    "plt.ylabel('loss')\n",
    "plt.show()"
   ]
  }
 ],
 "metadata": {
  "kernelspec": {
   "display_name": "Python 3.7.4 ('base')",
   "language": "python",
   "name": "python3"
  },
  "language_info": {
   "codemirror_mode": {
    "name": "ipython",
    "version": 3
   },
   "file_extension": ".py",
   "mimetype": "text/x-python",
   "name": "python",
   "nbconvert_exporter": "python",
   "pygments_lexer": "ipython3",
   "version": "3.7.4"
  },
  "orig_nbformat": 4,
  "vscode": {
   "interpreter": {
    "hash": "77183bd9d6786d4e91446bef4a81b437a8a214642262a83c9f17e3391316dc6f"
   }
  }
 },
 "nbformat": 4,
 "nbformat_minor": 2
}
