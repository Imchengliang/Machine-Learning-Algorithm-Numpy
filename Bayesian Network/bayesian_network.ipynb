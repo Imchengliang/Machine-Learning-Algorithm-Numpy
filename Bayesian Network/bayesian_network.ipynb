{
 "cells": [
  {
   "cell_type": "markdown",
   "metadata": {},
   "source": [
    "## Bayesian Network"
   ]
  },
  {
   "cell_type": "markdown",
   "metadata": {},
   "source": [
    "In Naive Bayes, the key for the algorithm is conditional independence hypothesis of feature. But it is usually too strict to be true in reality and the correlation between features limits the performance of Naive Bayes. Therefore, there is another bayes algorithm that relaxes the restrictions of conditional independence hypothesis, Bayesian Network.\n",
    "\n",
    "A Bayesian network usually consists of a directed acyclic graph (DAG) and a probability table corresponding to the nodes. DAG is composed of nodes and directed edges. Nodes represent characteristic attributes or random variables, and directed edges represent dependencies between variables. An important property of Bayesian network is that when the probability distribution of a node's parent is determined, the node is conditionally independent of all its indirect parent nodes. This property makes it convenient to calculate the joint probability distribution between variables.\n",
    "\n",
    "In general, the formula for calculating the joint probability distribution of multi dependent random variables is as follows:\n",
    "\n",
    "$$\n",
    "P(x_{1}, x_{2}, \\cdots , x_{n}) = P(x_{1})P(x_{2}|x_{1})P(x_{3}|x_{1}, x_{2}) \\cdots P(x_{n}|x_{1},x_{2}, \\cdots ,x-{n-1})\n",
    "$$\n",
    "\n",
    "With the property above, the formula can be simplified as follow:\n",
    "$$\n",
    "P(x_{1}, x_{2}, \\cdots , x_{n}) = \\prod_{i=1}^{n} P(x_{i}|Parents(x_{i}))\n",
    "$$"
   ]
  },
  {
   "cell_type": "markdown",
   "metadata": {},
   "source": [
    "Here uses pgmpy to construct the bayesian network, and takes the following DAG and probability table as an example.\n",
    "\n",
    "<img src=\"/Users/imchengliang/Downloads/Code/ML/Bayesian Network/1.png\" />"
   ]
  },
  {
   "cell_type": "code",
   "execution_count": 11,
   "metadata": {},
   "outputs": [],
   "source": [
    "from pgmpy.factors.discrete import TabularCPD\n",
    "from pgmpy.models import BayesianModel\n",
    "from pgmpy.estimators import MaximumLikelihoodEstimator, BayesianEstimator"
   ]
  },
  {
   "cell_type": "code",
   "execution_count": 4,
   "metadata": {},
   "outputs": [
    {
     "name": "stderr",
     "output_type": "stream",
     "text": [
      "/Library/Frameworks/Python.framework/Versions/3.8/lib/python3.8/site-packages/pgmpy/models/BayesianModel.py:8: FutureWarning: BayesianModel has been renamed to BayesianNetwork. Please use BayesianNetwork class, BayesianModel will be removed in future.\n",
      "  warnings.warn(\n"
     ]
    }
   ],
   "source": [
    "# set the dependency of different variables\n",
    "student_model = BayesianModel([('D', 'G'), ('I', 'G'), ('G', 'L'), ('I', 'S')])"
   ]
  },
  {
   "cell_type": "code",
   "execution_count": 5,
   "metadata": {},
   "outputs": [],
   "source": [
    "# build the nodes and set their probability table\n",
    "grade_cpd = TabularCPD(\n",
    "    variable='G', # node name\n",
    "    variable_card=3, # number of variable in this node\n",
    "    values=[[0.3, 0.05, 0.9, 0.5], # probability of node\n",
    "    [0.4, 0.25, 0.08, 0.3],\n",
    "    [0.3, 0.7, 0.02, 0.2]],\n",
    "    evidence=['I', 'D'], # parent node\n",
    "    evidence_card=[2, 2] # number of variable in each parent node\n",
    ")\n",
    "\n",
    "difficulty_cpd = TabularCPD(\n",
    "            variable='D',\n",
    "            variable_card=2,\n",
    "            values=[[0.6], [0.4]]\n",
    ")\n",
    "\n",
    "intel_cpd = TabularCPD(\n",
    "            variable='I',\n",
    "            variable_card=2,\n",
    "            values=[[0.7], [0.3]]\n",
    ")\n",
    "\n",
    "letter_cpd = TabularCPD(\n",
    "            variable='L',\n",
    "            variable_card=2,\n",
    "            values=[[0.1, 0.4, 0.99],\n",
    "            [0.9, 0.6, 0.01]],\n",
    "            evidence=['G'],\n",
    "            evidence_card=[3]\n",
    ")\n",
    "\n",
    "sat_cpd = TabularCPD(\n",
    "            variable='S',\n",
    "            variable_card=2,\n",
    "            values=[[0.95, 0.2],\n",
    "            [0.05, 0.8]],\n",
    "            evidence=['I'],\n",
    "            evidence_card=[2]\n",
    ")"
   ]
  },
  {
   "cell_type": "code",
   "execution_count": 7,
   "metadata": {},
   "outputs": [
    {
     "data": {
      "text/plain": [
       "[<TabularCPD representing P(G:3 | I:2, D:2) at 0x7fe91138d3a0>,\n",
       " <TabularCPD representing P(D:2) at 0x7fe9105b4fa0>,\n",
       " <TabularCPD representing P(I:2) at 0x7fe911108d00>,\n",
       " <TabularCPD representing P(L:2 | G:3) at 0x7fe911224fa0>,\n",
       " <TabularCPD representing P(S:2 | I:2) at 0x7fe91117c760>]"
      ]
     },
     "execution_count": 7,
     "metadata": {},
     "output_type": "execute_result"
    }
   ],
   "source": [
    "# add nodes to the model to build the network\n",
    "student_model.add_cpds(\n",
    "    grade_cpd, difficulty_cpd, intel_cpd, letter_cpd, sat_cpd\n",
    ")\n",
    "\n",
    "# obtain the conditional probability distribution\n",
    "student_model.get_cpds()"
   ]
  },
  {
   "cell_type": "code",
   "execution_count": 8,
   "metadata": {},
   "outputs": [
    {
     "data": {
      "text/plain": [
       "(D ⟂ S, I)\n",
       "(D ⟂ I | S)\n",
       "(D ⟂ S | I)\n",
       "(D ⟂ L | G)\n",
       "(D ⟂ S | L, I)\n",
       "(D ⟂ L | S, G)\n",
       "(D ⟂ L, S | I, G)\n",
       "(D ⟂ S | L, I, G)\n",
       "(D ⟂ L | S, I, G)\n",
       "(L ⟂ S | I)\n",
       "(L ⟂ D, I, S | G)\n",
       "(L ⟂ S | I, D)\n",
       "(L ⟂ S, I | D, G)\n",
       "(L ⟂ S, D | I, G)\n",
       "(L ⟂ D, I | S, G)\n",
       "(L ⟂ S | I, D, G)\n",
       "(L ⟂ I | S, D, G)\n",
       "(L ⟂ D | S, I, G)\n",
       "(S ⟂ D)\n",
       "(S ⟂ L, D, G | I)\n",
       "(S ⟂ L | G)\n",
       "(S ⟂ D, G | L, I)\n",
       "(S ⟂ L, G | I, D)\n",
       "(S ⟂ L | D, G)\n",
       "(S ⟂ L, D | I, G)\n",
       "(S ⟂ G | L, I, D)\n",
       "(S ⟂ D | L, I, G)\n",
       "(S ⟂ L | I, D, G)\n",
       "(I ⟂ D)\n",
       "(I ⟂ D | S)\n",
       "(I ⟂ L | G)\n",
       "(I ⟂ L | S, G)\n",
       "(I ⟂ L | D, G)\n",
       "(I ⟂ L | S, D, G)\n",
       "(G ⟂ S | I)\n",
       "(G ⟂ S | L, I)\n",
       "(G ⟂ S | I, D)\n",
       "(G ⟂ S | L, I, D)"
      ]
     },
     "execution_count": 8,
     "metadata": {},
     "output_type": "execute_result"
    }
   ],
   "source": [
    "# obtain the dependency relationship between each node\n",
    "student_model.get_independencies()"
   ]
  },
  {
   "cell_type": "code",
   "execution_count": 9,
   "metadata": {},
   "outputs": [
    {
     "name": "stderr",
     "output_type": "stream",
     "text": [
      "Finding Elimination Order: : : 0it [00:00, ?it/s]\n",
      "0it [00:00, ?it/s]"
     ]
    },
    {
     "name": "stdout",
     "output_type": "stream",
     "text": [
      "+------+----------+\n",
      "| G    |   phi(G) |\n",
      "+======+==========+\n",
      "| G(0) |   0.9000 |\n",
      "+------+----------+\n",
      "| G(1) |   0.0800 |\n",
      "+------+----------+\n",
      "| G(2) |   0.0200 |\n",
      "+------+----------+\n"
     ]
    },
    {
     "name": "stderr",
     "output_type": "stream",
     "text": [
      "\n"
     ]
    }
   ],
   "source": [
    "from pgmpy.inference import VariableElimination \n",
    "student_infer = VariableElimination(student_model)\n",
    "# predict the result that a good student faces an easy exam\n",
    "prob_G = student_infer.query( variables=['G'], evidence={'I': 1, 'D': 0}) \n",
    "print(prob_G)"
   ]
  },
  {
   "cell_type": "code",
   "execution_count": 10,
   "metadata": {},
   "outputs": [
    {
     "data": {
      "text/html": [
       "<div>\n",
       "<style scoped>\n",
       "    .dataframe tbody tr th:only-of-type {\n",
       "        vertical-align: middle;\n",
       "    }\n",
       "\n",
       "    .dataframe tbody tr th {\n",
       "        vertical-align: top;\n",
       "    }\n",
       "\n",
       "    .dataframe thead th {\n",
       "        text-align: right;\n",
       "    }\n",
       "</style>\n",
       "<table border=\"1\" class=\"dataframe\">\n",
       "  <thead>\n",
       "    <tr style=\"text-align: right;\">\n",
       "      <th></th>\n",
       "      <th>D</th>\n",
       "      <th>I</th>\n",
       "      <th>G</th>\n",
       "      <th>L</th>\n",
       "      <th>S</th>\n",
       "    </tr>\n",
       "  </thead>\n",
       "  <tbody>\n",
       "    <tr>\n",
       "      <th>0</th>\n",
       "      <td>0</td>\n",
       "      <td>1</td>\n",
       "      <td>1</td>\n",
       "      <td>1</td>\n",
       "      <td>1</td>\n",
       "    </tr>\n",
       "    <tr>\n",
       "      <th>1</th>\n",
       "      <td>0</td>\n",
       "      <td>1</td>\n",
       "      <td>0</td>\n",
       "      <td>1</td>\n",
       "      <td>1</td>\n",
       "    </tr>\n",
       "    <tr>\n",
       "      <th>2</th>\n",
       "      <td>0</td>\n",
       "      <td>0</td>\n",
       "      <td>0</td>\n",
       "      <td>0</td>\n",
       "      <td>0</td>\n",
       "    </tr>\n",
       "    <tr>\n",
       "      <th>3</th>\n",
       "      <td>1</td>\n",
       "      <td>0</td>\n",
       "      <td>1</td>\n",
       "      <td>1</td>\n",
       "      <td>1</td>\n",
       "    </tr>\n",
       "    <tr>\n",
       "      <th>4</th>\n",
       "      <td>1</td>\n",
       "      <td>1</td>\n",
       "      <td>0</td>\n",
       "      <td>0</td>\n",
       "      <td>0</td>\n",
       "    </tr>\n",
       "  </tbody>\n",
       "</table>\n",
       "</div>"
      ],
      "text/plain": [
       "   D  I  G  L  S\n",
       "0  0  1  1  1  1\n",
       "1  0  1  0  1  1\n",
       "2  0  0  0  0  0\n",
       "3  1  0  1  1  1\n",
       "4  1  1  0  0  0"
      ]
     },
     "execution_count": 10,
     "metadata": {},
     "output_type": "execute_result"
    }
   ],
   "source": [
    "# generate data\n",
    "import numpy as np\n",
    "import pandas as pd\n",
    "\n",
    "raw_data = np.random.randint(low=0, high=2, size=(1000, 5))\n",
    "data = pd.DataFrame(raw_data, columns=['D', 'I', 'G', 'L', 'S'])\n",
    "data.head()"
   ]
  },
  {
   "cell_type": "code",
   "execution_count": 13,
   "metadata": {},
   "outputs": [
    {
     "name": "stdout",
     "output_type": "stream",
     "text": [
      "CPD of G:\n",
      "+------+--------------------+-----+--------------------+\n",
      "| D    | D(0)               | ... | D(1)               |\n",
      "+------+--------------------+-----+--------------------+\n",
      "| I    | I(0)               | ... | I(1)               |\n",
      "+------+--------------------+-----+--------------------+\n",
      "| G(0) | 0.4743083003952569 | ... | 0.5103734439834025 |\n",
      "+------+--------------------+-----+--------------------+\n",
      "| G(1) | 0.525691699604743  | ... | 0.4896265560165975 |\n",
      "+------+--------------------+-----+--------------------+\n",
      "CPD of D:\n",
      "+------+-------+\n",
      "| D(0) | 0.521 |\n",
      "+------+-------+\n",
      "| D(1) | 0.479 |\n",
      "+------+-------+\n",
      "CPD of I:\n",
      "+------+-------+\n",
      "| I(0) | 0.491 |\n",
      "+------+-------+\n",
      "| I(1) | 0.509 |\n",
      "+------+-------+\n",
      "CPD of L:\n",
      "+------+--------------------+---------------------+\n",
      "| G    | G(0)               | G(1)                |\n",
      "+------+--------------------+---------------------+\n",
      "| L(0) | 0.4896694214876033 | 0.46511627906976744 |\n",
      "+------+--------------------+---------------------+\n",
      "| L(1) | 0.5103305785123967 | 0.5348837209302325  |\n",
      "+------+--------------------+---------------------+\n",
      "CPD of S:\n",
      "+------+---------------------+---------------------+\n",
      "| I    | I(0)                | I(1)                |\n",
      "+------+---------------------+---------------------+\n",
      "| S(0) | 0.45417515274949083 | 0.49901768172888017 |\n",
      "+------+---------------------+---------------------+\n",
      "| S(1) | 0.5458248472505092  | 0.5009823182711198  |\n",
      "+------+---------------------+---------------------+\n"
     ]
    }
   ],
   "source": [
    "# use generated data to train the model based on MLE\n",
    "student_model.fit(data, estimator=MaximumLikelihoodEstimator) \n",
    "for cpd in student_model.get_cpds():\n",
    "    print(\"CPD of {variable}:\".format(variable=cpd.variable)) \n",
    "    print(cpd)"
   ]
  }
 ],
 "metadata": {
  "kernelspec": {
   "display_name": "Python 3.8.2 64-bit",
   "language": "python",
   "name": "python3"
  },
  "language_info": {
   "codemirror_mode": {
    "name": "ipython",
    "version": 3
   },
   "file_extension": ".py",
   "mimetype": "text/x-python",
   "name": "python",
   "nbconvert_exporter": "python",
   "pygments_lexer": "ipython3",
   "version": "3.8.2"
  },
  "orig_nbformat": 4,
  "vscode": {
   "interpreter": {
    "hash": "aee8b7b246df8f9039afb4144a1f6fd8d2ca17a180786b69acc140d282b71a49"
   }
  }
 },
 "nbformat": 4,
 "nbformat_minor": 2
}
