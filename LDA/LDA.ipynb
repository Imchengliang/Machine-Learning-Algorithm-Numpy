{
 "cells": [
  {
   "cell_type": "markdown",
   "metadata": {},
   "source": [
    "## LDA"
   ]
  },
  {
   "cell_type": "markdown",
   "metadata": {},
   "source": [
    "LDA (linear discriminant analysis) is a classic linear classification method. Different from the idea of maximizing variance in PCA dimensionality reduction, the basic idea of LDA is to project the data into a low-dimensional space, so that the same type of data is as close as possible, and different types of data are as far apart as possible. So, LDA is a supervised linear classification algorithm."
   ]
  },
  {
   "cell_type": "markdown",
   "metadata": {},
   "source": [
    "<img src=\"1.png\" />"
   ]
  },
  {
   "cell_type": "markdown",
   "metadata": {},
   "source": [
    "Given data set $D=\\{(x_{i}, y{i}) \\}^{m}_{i=1}, \\enspace y_{i} \\in \\{0,1\\}$, and $X_{i}, \\enspace \\mu _{i}, \\enspace \\Sigma _{i}$ are the set, mean vector and covariance matrix of the $i$-th class of data.\n",
    "\n",
    "Assuming that the above data is projected onto the straight line $w$, the projections of the centers of the two types of samples onto the straight line are $w^{\\top}\\mu _{0}$ and $w^{\\top}\\mu _{1}$, respectively. Considering all the sample projections, the covariances of the two types of samples are $w^{\\top}\\Sigma _{0} w$ and $w^{\\top}\\Sigma _{1} w$, respectively. Since the straight line $w$ is a one-dimensional space, the above values are all real numbers."
   ]
  },
  {
   "cell_type": "markdown",
   "metadata": {},
   "source": [
    "The optimization goals are to make the projection points of similar samples as close as possible, and the projection points of heterogeneous samples as far away as possible. \n",
    "\n",
    "To meet the first purpose, the covariance of the projection points of the similar sample need to be as small as possible, that is, $w^{\\top}\\Sigma _{0} w+w^{\\top}\\Sigma _{1} w$ as small as possible. The projection points of heterogeneous samples to be as far away as possible, which means the distance between the class center points to be as large as possible, that is, $||w^{\\top}\\mu _{0}-w^{\\top}\\mu _{1}||^{2}_{2}$ is as large as possible."
   ]
  },
  {
   "cell_type": "markdown",
   "metadata": {},
   "source": [
    "Considering these two optimization objectives at the same time, the objective function can be defined as:\n",
    "$$\n",
    "J=\\frac{\\left\\|\\boldsymbol{w}^{T} \\boldsymbol{\\mu}_{0}-\\boldsymbol{w}^{T} \\boldsymbol{\\mu}_{1}\\right\\|_{2}^{2}}{\\boldsymbol{w}^{T} \\boldsymbol{\\Sigma}_{0} \\boldsymbol{w}+\\boldsymbol{w}^{T} \\boldsymbol{\\Sigma}_{1} \\boldsymbol{w}}=\\frac{\\boldsymbol{w}^{T}\\left(\\boldsymbol{\\mu}_{0}-\\boldsymbol{\\mu}_{1}\\right)\\left(\\boldsymbol{\\mu}_{0}-\\boldsymbol{\\mu}_{1}\\right)^{T} \\boldsymbol{w}}{\\boldsymbol{w}^{T}\\left(\\Sigma_{0}+\\Sigma_{1}\\right) \\boldsymbol{w}}\n",
    "$$\n",
    "\n",
    "Define intra-class divergence matrix $S_w$ and between-class divergence matrix $S_b$:\n",
    "$$\n",
    "\\begin{aligned}\n",
    "&S_{w}=\\Sigma _{0} + \\Sigma _{1} \\\\\n",
    "&S_{b}=(\\mu _{0}-\\mu _{1})(\\mu _{0}-\\mu _{1})^{\\top}\n",
    "\\end{aligned}\n",
    "$$\n",
    "\n",
    "Then the objective function can be rewritten as:\n",
    "$$\n",
    "J = \\frac{w^{\\top}S_{b}w}{w^{\\top}S_{w}w}\n",
    "$$"
   ]
  },
  {
   "cell_type": "markdown",
   "metadata": {},
   "source": [
    "The above formula is the ultimate optimization goal of LDA. To calculate $w$, $w^{\\top}S_{w}w$can be set to be $1$, then the optimization formula can be expressed as:\n",
    "$$\n",
    "\\min -w^{\\top}S_{b}w \\\\\n",
    "s.t. \\enspace w^{\\top}S_{w}w = 1\n",
    "$$"
   ]
  },
  {
   "cell_type": "markdown",
   "metadata": {},
   "source": [
    "According to Lagrange Multiplier Method for optimizing solution based on conditional constraints, the above formula is equal to:\n",
    "$$\n",
    "S_{b}w = \\lambda S_{w}w\n",
    "$$\n",
    "\n",
    "Let $S_{b}w = \\lambda (\\mu _{0} - \\mu _{1})$, and put it into the above formula:\n",
    "$$\n",
    "w = S^{-1}_{w}(\\mu _{0} - \\mu _{1})\n",
    "$$"
   ]
  },
  {
   "cell_type": "markdown",
   "metadata": {},
   "source": [
    "Considering the stability of the numerical solution of matrix $S_w$, singular value decomposition can be performed on it, that is:\n",
    "$$\n",
    "S_{w} = U\\Sigma V^{\\top}\n",
    "$$\n",
    "\n",
    "Finally, take its inverse to get $S_{w}^{-1}$, and use it to calculate $w$. The projected data points are $Y=S_{w}^{\\top}X$."
   ]
  },
  {
   "cell_type": "code",
   "execution_count": 1,
   "metadata": {},
   "outputs": [],
   "source": [
    "import numpy as np"
   ]
  },
  {
   "cell_type": "code",
   "execution_count": 2,
   "metadata": {},
   "outputs": [],
   "source": [
    "class LDA():\n",
    "    def __init__(self):\n",
    "        # initialize weight matrix\n",
    "        self.w = None\n",
    "\n",
    "    def calc_cov(self, X, Y=None):\n",
    "        m = X.shape[0]\n",
    "        # standardization\n",
    "        X = (X - np.mean(X, axis=0))/np.std(X, axis=0)\n",
    "        Y = X if Y == None else (Y - np.mean(Y, axis=0))/np.std(Y, axis=0)\n",
    "        return 1 / m * np.matmul(X.T, Y)\n",
    "\n",
    "    def project(self, X, y):\n",
    "        self.fit(X, y)\n",
    "        X_projection = X.dot(self.w)\n",
    "        return X_projection\n",
    "\n",
    "    def fit(self, X, y):\n",
    "        X0 = X[y == 0]\n",
    "        X1 = X[y == 1]\n",
    "\n",
    "        sigma0 = self.calc_cov(X0)\n",
    "        sigma1 = self.calc_cov(X1)\n",
    "\n",
    "        Sw = sigma0 + sigma1\n",
    "\n",
    "        u0, u1 = np.mean(X0, axis=0), np.mean(X1, axis=0)\n",
    "        mean_diff = np.atleast_1d(u0 - u1)\n",
    "\n",
    "        U, S, V = np.linalg.svd(Sw)\n",
    "        Sw_ = np.dot(np.dot(V.T, np.linalg.pinv(np.diag(S))), U.T)\n",
    "        self.w = Sw_.dot(mean_diff)\n",
    "\n",
    "    def predict(self, X):\n",
    "        y_pred = []\n",
    "        for sample in X:\n",
    "            h = sample.dot(self.w)\n",
    "            y = 1 * (h < 0)\n",
    "            y_pred.append(y)\n",
    "        return y_pred"
   ]
  },
  {
   "cell_type": "code",
   "execution_count": 3,
   "metadata": {},
   "outputs": [
    {
     "name": "stdout",
     "output_type": "stream",
     "text": [
      "(80, 4) (20, 4) (80,) (20,)\n"
     ]
    }
   ],
   "source": [
    "from sklearn import datasets\n",
    "import matplotlib.pyplot as plt\n",
    "from sklearn.model_selection import train_test_split\n",
    "\n",
    "data = datasets.load_iris()\n",
    "X = data.data\n",
    "y = data.target\n",
    "\n",
    "X = X[y != 2]\n",
    "y = y[y != 2]\n",
    "X_train, X_test, y_train, y_test = train_test_split(X, y, test_size=0.2, random_state=41)\n",
    "print(X_train.shape, X_test.shape, y_train.shape, y_test.shape)"
   ]
  },
  {
   "cell_type": "code",
   "execution_count": 4,
   "metadata": {},
   "outputs": [
    {
     "name": "stdout",
     "output_type": "stream",
     "text": [
      "0.85\n"
     ]
    }
   ],
   "source": [
    "lda = LDA()\n",
    "lda.fit(X_train, y_train)\n",
    "y_pred = lda.predict(X_test)\n",
    "\n",
    "from sklearn.metrics import accuracy_score\n",
    "accuracy = accuracy_score(y_test, y_pred)\n",
    "print(accuracy)"
   ]
  },
  {
   "cell_type": "code",
   "execution_count": 8,
   "metadata": {},
   "outputs": [],
   "source": [
    "import matplotlib.pyplot as plt\n",
    "import matplotlib.cm as cmx\n",
    "import matplotlib.colors as colors\n",
    "\n",
    "class Plot():\n",
    "    def __init__(self): \n",
    "        self.cmap = plt.get_cmap('viridis')\n",
    "\n",
    "    def calculate_covariance_matrix(self, X, Y=None):\n",
    "        m = X.shape[0]\n",
    "        # standardization\n",
    "        X = (X - np.mean(X, axis=0))/np.std(X, axis=0)\n",
    "        Y = X if Y == None else (Y - np.mean(Y, axis=0))/np.std(Y, axis=0)\n",
    "        return 1 / m * np.matmul(X.T, Y)\n",
    "\n",
    "    def _transform(self, X, dim):\n",
    "        covariance = self.calculate_covariance_matrix(X)\n",
    "        eigenvalues, eigenvectors = np.linalg.eig(covariance)\n",
    "        # Sort eigenvalues and eigenvector by largest eigenvalues\n",
    "        idx = eigenvalues.argsort()[::-1]\n",
    "        eigenvalues = eigenvalues[idx][:dim]\n",
    "        eigenvectors = np.atleast_1d(eigenvectors[:, idx])[:, :dim]\n",
    "        # Project the data onto principal components\n",
    "        X_transformed = X.dot(eigenvectors)\n",
    "\n",
    "        return X_transformed\n",
    "\n",
    "    def plot_regression(self, lines, title, axis_labels=None, mse=None, scatter=None, legend={\"type\": \"lines\", \"loc\": \"lower right\"}):\n",
    "        \n",
    "        if scatter:\n",
    "            scatter_plots = scatter_labels = []\n",
    "            for s in scatter:\n",
    "                scatter_plots += [plt.scatter(s[\"x\"], s[\"y\"], color=s[\"color\"], s=s[\"size\"])]\n",
    "                scatter_labels += [s[\"label\"]]\n",
    "            scatter_plots = tuple(scatter_plots)\n",
    "            scatter_labels = tuple(scatter_labels)\n",
    "\n",
    "        for l in lines:\n",
    "            li = plt.plot(l[\"x\"], l[\"y\"], color=s[\"color\"], linewidth=l[\"width\"], label=l[\"label\"])\n",
    "\n",
    "        if mse:\n",
    "            plt.suptitle(title)\n",
    "            plt.title(\"MSE: %.2f\" % mse, fontsize=10)\n",
    "        else:\n",
    "            plt.title(title)\n",
    "\n",
    "        if axis_labels:\n",
    "            plt.xlabel(axis_labels[\"x\"])\n",
    "            plt.ylabel(axis_labels[\"y\"])\n",
    "\n",
    "        if legend[\"type\"] == \"lines\":\n",
    "            plt.legend(loc=\"lower_left\")\n",
    "        elif legend[\"type\"] == \"scatter\" and scatter:\n",
    "            plt.legend(scatter_plots, scatter_labels, loc=legend[\"loc\"])\n",
    "\n",
    "        plt.show()\n",
    "\n",
    "    # Plot the dataset X and the corresponding labels y in 2D using PCA.\n",
    "    def plot_in_2d(self, X, y=None, title=None, accuracy=None, legend_labels=None):\n",
    "        X_transformed = self._transform(X, dim=2)\n",
    "        x1 = X_transformed[:, 0]\n",
    "        x2 = X_transformed[:, 1]\n",
    "        class_distr = []\n",
    "\n",
    "        y = np.array(y).astype(int)\n",
    "\n",
    "        colors = [self.cmap(i) for i in np.linspace(0, 1, len(np.unique(y)))]\n",
    "\n",
    "        # Plot the different class distributions\n",
    "        for i, l in enumerate(np.unique(y)):\n",
    "            _x1 = x1[y == l]\n",
    "            _x2 = x2[y == l]\n",
    "            _y = y[y == l]\n",
    "            class_distr.append(plt.scatter(_x1, _x2, color=colors[i]))\n",
    "\n",
    "        # Plot legend\n",
    "        if not legend_labels is None: \n",
    "            plt.legend(class_distr, legend_labels, loc=1)\n",
    "\n",
    "        # Plot title\n",
    "        if title:\n",
    "            if accuracy:\n",
    "                perc = 100 * accuracy\n",
    "                plt.suptitle(title)\n",
    "                plt.title(\"Accuracy: %.1f%%\" % perc, fontsize=10)\n",
    "            else:\n",
    "                plt.title(title)\n",
    "\n",
    "        # Axis labels\n",
    "        plt.xlabel('class 1')\n",
    "        plt.ylabel('class 2')\n",
    "\n",
    "        plt.show()"
   ]
  },
  {
   "cell_type": "code",
   "execution_count": 9,
   "metadata": {},
   "outputs": [
    {
     "data": {
      "image/png": "[encoded data removed]",
      "text/plain": [
       "<Figure size 432x288 with 1 Axes>"
      ]
     },
     "metadata": {
      "needs_background": "light"
     },
     "output_type": "display_data"
    }
   ],
   "source": [
    "Plot().plot_in_2d(X_test, y_pred, title=\"LDA\", accuracy=accuracy)"
   ]
  },
  {
   "cell_type": "code",
   "execution_count": 7,
   "metadata": {},
   "outputs": [
    {
     "name": "stdout",
     "output_type": "stream",
     "text": [
      "1.0\n"
     ]
    }
   ],
   "source": [
    "from sklearn.discriminant_analysis import LinearDiscriminantAnalysis\n",
    "clf = LinearDiscriminantAnalysis()\n",
    "clf.fit(X_train, y_train)\n",
    "y_pred = clf.predict(X_test)\n",
    "accuracy = accuracy_score(y_test, y_pred)\n",
    "print(accuracy)"
   ]
  }
 ],
 "metadata": {
  "kernelspec": {
   "display_name": "Python 3.8.2 64-bit",
   "language": "python",
   "name": "python3"
  },
  "language_info": {
   "codemirror_mode": {
    "name": "ipython",
    "version": 3
   },
   "file_extension": ".py",
   "mimetype": "text/x-python",
   "name": "python",
   "nbconvert_exporter": "python",
   "pygments_lexer": "ipython3",
   "version": "3.8.2"
  },
  "orig_nbformat": 4,
  "vscode": {
   "interpreter": {
    "hash": "aee8b7b246df8f9039afb4144a1f6fd8d2ca17a180786b69acc140d282b71a49"
   }
  }
 },
 "nbformat": 4,
 "nbformat_minor": 2
}
