{
 "cells": [
  {
   "cell_type": "markdown",
   "metadata": {},
   "source": [
    "## Non-linear Support Vector Machine"
   ]
  },
  {
   "cell_type": "markdown",
   "metadata": {},
   "source": [
    "For a given data set, if a hypersurface can be used to correctly separate positive and negative instances, the problem is a nonlinearly separable problem. A key for solving the nonlinear problem is to transform the original data space into a new data space. The nonlinearly separable problem will be a linearly separable problem in the new data space.\n",
    "\n",
    "Generally speaking, there are two steps when using linearly separable method to solve the nonlinearly separable problem. First, a transformation is used to map the data in the original space to the new space, and then the classification model is trained in the new space using the linear classification learning method. This method of transforming the original space into the new space is called the kernel trick. \n",
    "\n",
    "Assuming that there is a map from input space to feature space, and function $K(x, z)=\\&(x).\\&(z)$ exists for all $x$ and $z$, then $K(x, z)$ is called kernel function. In practical problems, the form of the kernel function is usually given directly and then used to solve the problem. Commonly used kernel functions include polynomial kernel function, Gaussian kernel function and sigmoid kernel function, etc.\n",
    "\n",
    "$$\n",
    "\\begin{array}{lcc}\n",
    "\\text { Type of kernel } & \\text { Kernel function } & \\begin{array}{c}\n",
    "\\text { Kernel } \\\\\n",
    "\\text { parameter }\n",
    "\\end{array} \\\\\n",
    "\\hline \\text { Polynomial } & ((x \\cdot y)+1)^{d} & d \\\\\n",
    "\\text { Gaussian radial basis function } & \\exp \\left[-\\frac{|x-y|^{2}}{2 \\sigma^{2}}\\right] & \\sigma \\\\\n",
    "\\text { Multilayer } & \\tanh \\left(\\beta_{t}(x \\cdot y)+\\beta_{o}\\right) & \\beta_{o} \\beta_{l} \\\\\n",
    "\\text { perceptron } & \n",
    "\\begin{array}{c}\n",
    "1+x y+x y \\min (x, y)- \\\\ \n",
    "\\frac{(x+y)}{2}(\\min (x, y))^{2} + \\frac{1}{3}(\\min (x, y))^{3}\n",
    "\\end{array} & - \\\\\n",
    "\\hline\n",
    "\\end{array}\n",
    "$$"
   ]
  },
  {
   "cell_type": "markdown",
   "metadata": {},
   "source": [
    "The dual optimization problem of nonlinear support vector machine based on kernel function is as follows:\n",
    "\n",
    "$$\n",
    "\\begin{gathered}\n",
    "\\min _{\\vec{\\alpha}} \\frac{1}{2} \\sum_{i=1}^{N} \\sum_{j=1}^{N} \\alpha_{i} \\alpha_{j} \\tilde{y}_{i} \\tilde{y}_{j} K\\left(\\overrightarrow{\\mathbf{x}}_{i}, \\overrightarrow{\\mathbf{x}}_{j}\\right)-\\sum_{i=1}^{N} \\alpha_{i} \\\\\n",
    "\\text { s.t. } \\quad \\sum_{i=1}^{N} \\alpha_{i} \\tilde{y}_{i}=0 \\\\\n",
    "C \\geq \\alpha_{i} \\geq 0, i=1,2, \\cdots, N\n",
    "\\end{gathered}\n",
    "$$"
   ]
  },
  {
   "cell_type": "markdown",
   "metadata": {},
   "source": [
    "When the kernel function is a positive definite kernel, the above optimization problem is a convex optimization problem and can be solved directly. The optimal solution can be obtained from :\n",
    "$$\n",
    "\\overrightarrow{\\alpha}^{*} = (\\alpha ^{*} _{1}, \\alpha ^{*} _{2}, \\cdots ,\\alpha ^{*} _{N})^{\\top}\n",
    "$$\n",
    "\n",
    "Calculate $\\mathbf{w}$ as follow:\n",
    "$$\n",
    "\\overrightarrow{\\mathbf{w}}^{*} = \\sum ^{N} _{i=1} \\alpha ^{*} _{i} \\tilde{y}_{j} \\overrightarrow{\\mathbf{x}}_{i}\n",
    "$$\n",
    "\n",
    "The classification decision function is:\n",
    "$$\n",
    "f(\\overrightarrow{\\mathbf{x}}) = \\text{sign}(\\sum ^{N} _{i=1} \\alpha ^{*} _{i} \\tilde{y}_{j} K(\\overrightarrow{\\mathbf{x}}_{i}, \\overrightarrow{\\mathbf{x}})+b^{*})\n",
    "$$\n",
    "\n",
    "Although the convex optimization problem can be solved directly, when the amount of data is large, the direct solution will be very inefficient. At this time, some efficient training algorithms are required, such as the Sequence Minimum Optimization algorithm."
   ]
  },
  {
   "cell_type": "code",
   "execution_count": 38,
   "metadata": {},
   "outputs": [],
   "source": [
    "import numpy as np\n",
    "from numpy import linalg\n",
    "import cvxopt\n",
    "import cvxopt.solvers\n",
    "import pylab as pl\n",
    "import pandas as pd\n",
    "import matplotlib.pyplot as plt"
   ]
  },
  {
   "cell_type": "code",
   "execution_count": 39,
   "metadata": {},
   "outputs": [],
   "source": [
    "# generate sample data\n",
    "def gen_non_linear_sep_data():\n",
    "    mean1, mean2, mean3, mean4 = [-1, 2], [1, -1], [4, -4], [-4, 4]\n",
    "    cov = [[1.0, 0.8], [0.8, 1.0]]\n",
    "    X1 = np.random.multivariate_normal(mean1, cov, 50)\n",
    "    X1 = np.vstack((X1, np.random.multivariate_normal(mean3, cov, 50)))\n",
    "    y1 = np.ones(len(X1))\n",
    "    X2 = np.random.multivariate_normal(mean2, cov, 50)\n",
    "    X2 = np.vstack((X2, np.random.multivariate_normal(mean4, cov, 50)))\n",
    "    y2 = -1 * np.ones(len(X2))\n",
    "    X_train = np.vstack((X1[:80], X2[:80]))\n",
    "    y_train = np.hstack((y1[:80], y2[:80]))\n",
    "    X_test = np.vstack((X1[80:], X2[80:]))\n",
    "    y_test = np.hstack((y1[80:], y2[80:]))\n",
    "\n",
    "    return X_train, y_train, X_test, y_test"
   ]
  },
  {
   "cell_type": "code",
   "execution_count": 40,
   "metadata": {},
   "outputs": [
    {
     "data": {
      "image/png": "[encoded data removed]",
      "text/plain": [
       "<Figure size 432x288 with 1 Axes>"
      ]
     },
     "metadata": {
      "needs_background": "light"
     },
     "output_type": "display_data"
    }
   ],
   "source": [
    "X_train, y_train, X_test, y_test = gen_non_linear_sep_data()\n",
    "colors = {1:'r', -1:'g'}\n",
    "plt.scatter(X_train[:,0], X_train[:,1], marker='o', c=pd.Series(y_train).map(colors))\n",
    "plt.show()"
   ]
  },
  {
   "cell_type": "code",
   "execution_count": 41,
   "metadata": {},
   "outputs": [],
   "source": [
    "# define the polynomial kernel\n",
    "def polynomial_kernel(x, y, p=3):\n",
    "    return (1+np.dot(x, y)) ** p"
   ]
  },
  {
   "cell_type": "code",
   "execution_count": 42,
   "metadata": {},
   "outputs": [],
   "source": [
    "def fit(X, y):\n",
    "    n_samples, n_features = X.shape\n",
    "\n",
    "    K = np.zeros((n_samples, n_samples))\n",
    "    for i in range(n_samples):\n",
    "        for j in range(n_samples):\n",
    "            K[i, j] = polynomial_kernel(X[i], X[j])\n",
    "\n",
    "    P = cvxopt.matrix(np.outer(y, y) * K) \n",
    "    q = cvxopt.matrix(np.ones(n_samples) * -1) \n",
    "    A = cvxopt.matrix(y, (1, n_samples)) \n",
    "    b = cvxopt.matrix(0.0)\n",
    "    G = cvxopt.matrix(np.diag(np.ones(n_samples) * -1))\n",
    "    h = cvxopt.matrix(np.zeros(n_samples))\n",
    "\n",
    "    # solve QP problem\n",
    "    solution = cvxopt.solvers.qp(P, q, G, h, A, b)\n",
    "    # Lagrange multipliers\n",
    "    a = np.ravel(solution['x'])\n",
    "    # Support vectors have non zero lagrange multipliers\n",
    "    sv = a > 1e-5\n",
    "    ind = np.arange(len(a))[sv]\n",
    "    a = a[sv]\n",
    "    sv_x = X[sv]\n",
    "    sv_y = y[sv]\n",
    "    print(\"%d support vectors out of %d points\" % (len(a), n_samples))\n",
    "\n",
    "    # Intercept\n",
    "    b = 0\n",
    "    for i in range(len(a)):\n",
    "        b += sv_y[i]\n",
    "        b -+ np.sum(a * sv_y * K[ind[i], sv])\n",
    "    b /= len(a)\n",
    "\n",
    "    # Weight vector\n",
    "    w = np.zeros(n_features)\n",
    "    for n in range(len(a)):\n",
    "        w += a[n] * sv_y[n] * sv_x[n]\n",
    "\n",
    "    return w, b, a, sv_x, sv_y"
   ]
  },
  {
   "cell_type": "code",
   "execution_count": 43,
   "metadata": {},
   "outputs": [
    {
     "name": "stdout",
     "output_type": "stream",
     "text": [
      "     pcost       dcost       gap    pres   dres\n",
      " 0: -2.1920e+01 -4.8161e+01  7e+02  3e+01  2e+00\n",
      " 1: -3.0395e+01 -3.5483e+01  4e+02  1e+01  1e+00\n",
      " 2: -8.8017e+00 -3.2339e+00  1e+02  3e+00  3e-01\n",
      " 3: -1.3708e-01 -5.9699e-01  4e+00  1e-01  8e-03\n",
      " 4: -5.7823e-02 -4.6443e-01  2e+00  4e-02  3e-03\n",
      " 5: -1.0248e-01 -3.2629e-01  5e-01  1e-02  9e-04\n",
      " 6: -1.6548e-01 -2.7211e-01  2e-01  4e-03  4e-04\n",
      " 7: -2.0407e-01 -2.6712e-01  1e-01  9e-04  8e-05\n",
      " 8: -2.2945e-01 -2.5554e-01  4e-02  3e-04  3e-05\n",
      " 9: -2.3906e-01 -2.5295e-01  1e-02  2e-06  2e-07\n",
      "10: -2.4805e-01 -2.5081e-01  3e-03  3e-07  2e-08\n",
      "11: -2.4940e-01 -2.5056e-01  1e-03  9e-08  8e-09\n",
      "12: -2.5022e-01 -2.5047e-01  2e-04  1e-16  2e-14\n",
      "13: -2.5045e-01 -2.5045e-01  3e-06  8e-17  2e-14\n",
      "14: -2.5045e-01 -2.5045e-01  3e-08  3e-17  2e-14\n",
      "Optimal solution found.\n",
      "7 support vectors out of 160 points\n"
     ]
    }
   ],
   "source": [
    "w, b, a, sv_x, sv_y = fit(X_train, y_train)\n",
    "\n",
    "def project(X):\n",
    "    y_pred = np.zeros(len(X))\n",
    "    for i in range(X.shape[0]):\n",
    "        s = 0\n",
    "        for n, spv_y, spv_x in zip(a, sv_y, sv_x):\n",
    "            s += n * spv_y * polynomial_kernel(X[i], spv_x)\n",
    "        y_pred[i] = s\n",
    "        \n",
    "    return y_pred + b\n",
    "\n",
    "def predict(X):\n",
    "    return np.sign(project(X))"
   ]
  },
  {
   "cell_type": "code",
   "execution_count": 45,
   "metadata": {},
   "outputs": [
    {
     "data": {
      "image/png": "[encoded data removed]",
      "text/plain": [
       "<Figure size 432x288 with 1 Axes>"
      ]
     },
     "metadata": {
      "needs_background": "light"
     },
     "output_type": "display_data"
    }
   ],
   "source": [
    "def plot_classifier(X1_train, X2_train):\n",
    "    plt.plot(X1_train[:,0], X1_train[:,1], \"ro\")\n",
    "    plt.plot(X2_train[:,0], X2_train[:,1], \"go\")\n",
    "    plt.scatter(sv_x[:,0], sv_x[:,1], s=100, c=\"blue\", edgecolors=\"b\", label=\"support vector\")\n",
    "\n",
    "    X1, X2 = np.meshgrid(np.linspace(-4, 4, 50), np.linspace(-4, 4, 50))\n",
    "    X = np.array([[x1, x2] for x1, x2 in zip(np.ravel(X1), np.ravel(X2))])\n",
    "    Z = project(X).reshape(X1.shape)\n",
    "    plt.contour(X1, X2, Z, [0.0], colors='k', linewidths=1, origin='lower')\n",
    "    plt.contour(X1, X2, Z + 1, [0.0], colors='grey', linewidths=1, origin='lower')\n",
    "    plt.contour(X1, X2, Z - 1, [0.0], colors='grey', linewidths=1, origin='lower')\n",
    "    plt.legend()\n",
    "    plt.show()\n",
    "    \n",
    "plot_classifier(X_train[y_train==1], X_train[y_train==-1])"
   ]
  },
  {
   "cell_type": "code",
   "execution_count": 46,
   "metadata": {},
   "outputs": [
    {
     "name": "stdout",
     "output_type": "stream",
     "text": [
      "Accuracy of non-linear svm based on cvxopt:  1.0\n"
     ]
    }
   ],
   "source": [
    "from sklearn.metrics import accuracy_score\n",
    "y_pred = predict(X_test)\n",
    "print('Accuracy of non-linear svm based on cvxopt: ', accuracy_score(y_test, y_pred))"
   ]
  }
 ],
 "metadata": {
  "kernelspec": {
   "display_name": "Python 3.8.2 64-bit",
   "language": "python",
   "name": "python3"
  },
  "language_info": {
   "codemirror_mode": {
    "name": "ipython",
    "version": 3
   },
   "file_extension": ".py",
   "mimetype": "text/x-python",
   "name": "python",
   "nbconvert_exporter": "python",
   "pygments_lexer": "ipython3",
   "version": "3.8.2"
  },
  "orig_nbformat": 4,
  "vscode": {
   "interpreter": {
    "hash": "aee8b7b246df8f9039afb4144a1f6fd8d2ca17a180786b69acc140d282b71a49"
   }
  }
 },
 "nbformat": 4,
 "nbformat_minor": 2
}
