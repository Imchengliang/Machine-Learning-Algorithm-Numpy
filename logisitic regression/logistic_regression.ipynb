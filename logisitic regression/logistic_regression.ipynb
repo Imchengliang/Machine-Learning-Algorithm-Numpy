{
 "cells": [
  {
   "cell_type": "markdown",
   "metadata": {},
   "source": [
    "## Logistic Regression"
   ]
  },
  {
   "cell_type": "markdown",
   "metadata": {},
   "source": [
    "Logistic regression is a generalization of linear regression. While the dependent variable $y$ of linear regression is a continuous value, the dependent variable of logistic regression is a binary value of 0/1. And that requires us to set up some kind of projection that converts the original real value to 0/1. Here is where the sigmoid function comes in."
   ]
  },
  {
   "cell_type": "code",
   "execution_count": 50,
   "metadata": {},
   "outputs": [],
   "source": [
    "import numpy as np"
   ]
  },
  {
   "cell_type": "code",
   "execution_count": null,
   "metadata": {},
   "outputs": [],
   "source": [
    "def initialize_params(dims): \n",
    "    w = np.zeros((dims, 1)) \n",
    "    b=0\n",
    "    return w, b"
   ]
  },
  {
   "cell_type": "markdown",
   "metadata": {},
   "source": [
    "sigmoid function: $f(x)=\\frac{1}{1 + e^{-x}}$\n",
    "\n",
    "Another good feature of the sigmoid function is that its derivation calculation: $f^{\\prime}(x) = f(x)(1-f(x)),$ which provides great convenience for us to find the gradient of the cross entropy loss in the following calculation."
   ]
  },
  {
   "cell_type": "code",
   "execution_count": 51,
   "metadata": {},
   "outputs": [],
   "source": [
    "def sigmoid(x):\n",
    "    z = 1 / (1 + np.exp(-x)) \n",
    "    return z"
   ]
  },
  {
   "cell_type": "markdown",
   "metadata": {},
   "source": [
    "From sigmoid function, we can find out the basic model of logistic regression: $\\enspace y = \\frac{1}{1 + e^{-W^{T}x+b}}$\n",
    "\n",
    "Adjust the formula above: $\\enspace \\text{ln} \\frac{y}{1-y} = W^{T}x+b$\n",
    "\n",
    "View $y$ as the posterior probability $p(y=1 | x)$: $\\enspace \\text{ln} \\frac{p(y=1 | x)}{p(y=0 | x)} = W^{T}x+b$\n",
    "\n",
    "Then we get $\\enspace p(y=1 | x) = \\frac{W^{T}x+b}{1+W^{T}x+b} = \\hat{y}, \\quad p(y=0 | x) = \\frac{1}{1+W^{T}x+b} = 1-\\hat{y}$\n",
    "\n",
    "Summarize the two formulas above: $\\enspace p(y|x) = {\\hat{y}}^{y} (1-\\hat{y})^{1-y}$\n",
    "\n",
    "Cross-entropy loss function is the logarithmic form of the formula above: \\\n",
    "$\\text{ln}p(y|x) = y\\text{log}\\hat{y} + (1-y)\\text{log} (1-\\hat{y}) = y\\text{log}\\frac{1}{1 + e^{-W^{T}x+b}} + (1-y)\\text{log} (1-\\frac{1}{1 + e^{-W^{T}x+b}})$\n",
    "\n",
    "Optimize the formula above, we get MLE, and based on it, the partial derivatives of W and b are obtained: \\\n",
    "$\\frac{\\partial L}{\\partial W} = \\frac{1}{m}x(\\hat{y}-y), \\quad \\frac{\\partial L}{\\partial b}=\\frac{1}{m}\\sum_{i=1}^{m}(\\hat{y}-y)$\n",
    "\n",
    "Through updating the weighted value of gradient of $W$ and $b$, we can find the best parameters to minimize the loss.\n"
   ]
  },
  {
   "cell_type": "code",
   "execution_count": 53,
   "metadata": {},
   "outputs": [],
   "source": [
    "def logistic(X, y, w, b): \n",
    "    num_train = X.shape[0] \n",
    "    num_feature = X.shape[1]\n",
    "    a = sigmoid(np.dot(X, w) + b)\n",
    "    cost = -1/num_train * np.sum(y*np.log(a) + (1-y)*np.log(1-a))\n",
    "    cost = np.squeeze(cost)\n",
    "    dw = np.dot(X.T, (a-y))/num_train \n",
    "    db = np.sum(a-y)/num_train\n",
    "    return a, cost, dw, db"
   ]
  },
  {
   "cell_type": "code",
   "execution_count": 54,
   "metadata": {},
   "outputs": [],
   "source": [
    "# Update parameters based on gradient descent\n",
    "def logistic_train(X, y, learning_rate, epochs):\n",
    "    w, b = initialize_params(X.shape[1]) \n",
    "    cost_list = []\n",
    "    for i in range(epochs):\n",
    "        a, cost, dw, db = logistic(X, y, w, b) \n",
    "        w = w -learning_rate * dw\n",
    "        b = b -learning_rate * db\n",
    "\n",
    "        if i % 100 == 0:\n",
    "            cost_list.append(cost)\n",
    "            print('epoch %d cost %f' % (i, cost))\n",
    "\n",
    "    # save parameters\n",
    "    params = {'w':w, 'b':b}\n",
    "    # save gradient\n",
    "    grads = {'dw':dw, 'db':db}\n",
    "\n",
    "    return cost_list, params, grads"
   ]
  },
  {
   "cell_type": "code",
   "execution_count": 55,
   "metadata": {},
   "outputs": [],
   "source": [
    "# Define the prediction function for test data\n",
    "def predict(X, params):\n",
    "    y_prediction = sigmoid(np.dot(X, params['w']) + params['b']) \n",
    "    for i in range(len(y_prediction)):\n",
    "        if y_prediction[i] > 0.5: \n",
    "            y_prediction[i] = 1\n",
    "        else:\n",
    "            y_prediction[i] = 0\n",
    "            \n",
    "    return y_prediction"
   ]
  },
  {
   "cell_type": "code",
   "execution_count": 56,
   "metadata": {},
   "outputs": [
    {
     "data": {
      "image/png": "[encoded data removed]",
      "text/plain": [
       "<Figure size 432x288 with 1 Axes>"
      ]
     },
     "metadata": {
      "needs_background": "light"
     },
     "output_type": "display_data"
    }
   ],
   "source": [
    "import matplotlib.pyplot as plt\n",
    "from sklearn.datasets.samples_generator import make_classification \n",
    "X,labels = make_classification(n_samples=100, n_features=2, n_redundant=0, n_informative=2)\n",
    "rng = np.random.RandomState(2)\n",
    "X += 2*rng.uniform(size=X.shape)\n",
    "unique_lables = set(labels) \n",
    "colors = plt.cm.Spectral(np.linspace(0, 1, len(unique_lables))) \n",
    "\n",
    "for k, col in zip(unique_lables, colors):\n",
    "    x_k = X[labels==k]\n",
    "    plt.plot(x_k[:, 0], x_k[:, 1], 'o', markerfacecolor=col, markeredgecolor=\"k\", markersize=14) \n",
    "\n",
    "plt.title('data by make_classification()')\n",
    "plt.show()"
   ]
  },
  {
   "cell_type": "code",
   "execution_count": 57,
   "metadata": {},
   "outputs": [
    {
     "name": "stdout",
     "output_type": "stream",
     "text": [
      "X_train= (90, 2)\n",
      "X_test= (10, 2)\n",
      "y_train= (90, 1)\n",
      "y_test= (10, 1)\n"
     ]
    }
   ],
   "source": [
    "offset = int(X.shape[0] * 0.9)\n",
    "X_train, y_train = X[:offset], labels[:offset] \n",
    "X_test, y_test = X[offset:], labels[offset:] \n",
    "y_train = y_train.reshape((-1,1))\n",
    "y_test = y_test.reshape((-1,1))\n",
    "\n",
    "print('X_train=', X_train.shape) \n",
    "print('X_test=', X_test.shape) \n",
    "print('y_train=', y_train.shape) \n",
    "print('y_test=', y_test.shape)"
   ]
  },
  {
   "cell_type": "code",
   "execution_count": 67,
   "metadata": {},
   "outputs": [
    {
     "name": "stdout",
     "output_type": "stream",
     "text": [
      "epoch 0 cost 0.693147\n",
      "epoch 100 cost 0.529118\n",
      "epoch 200 cost 0.460841\n",
      "epoch 300 cost 0.420107\n",
      "epoch 400 cost 0.392051\n",
      "epoch 500 cost 0.371216\n",
      "epoch 600 cost 0.354972\n",
      "epoch 700 cost 0.341864\n",
      "epoch 800 cost 0.331012\n",
      "epoch 900 cost 0.321849\n"
     ]
    }
   ],
   "source": [
    "# train the model on training set\n",
    "cost_list, params, grads = logistic_train(X_train, y_train, 0.01, 1000)"
   ]
  },
  {
   "cell_type": "code",
   "execution_count": 68,
   "metadata": {},
   "outputs": [],
   "source": [
    "# predict result on test set\n",
    "y_train_pred = predict(X_train, params)\n",
    "y_prediction = predict(X_test, params) "
   ]
  },
  {
   "cell_type": "code",
   "execution_count": 69,
   "metadata": {},
   "outputs": [],
   "source": [
    "# evaluate the accuracy of training and test\n",
    "def accuracy(y_test, y_pred): \n",
    "    correct_count = 0\n",
    "    for i in range(len(y_test)):\n",
    "        for j in range(len(y_pred)):\n",
    "            if y_test[i] == y_pred[j] and i == j:\n",
    "                correct_count +=1\n",
    "    accuracy_score = correct_count / len(y_test)\n",
    "    return accuracy_score"
   ]
  },
  {
   "cell_type": "code",
   "execution_count": 70,
   "metadata": {},
   "outputs": [
    {
     "name": "stdout",
     "output_type": "stream",
     "text": [
      "0.9222222222222223\n",
      "0.9\n"
     ]
    }
   ],
   "source": [
    "accuracy_score_train = accuracy(y_train, y_train_pred) \n",
    "print(accuracy_score_train)\n",
    "\n",
    "accuracy_score_test = accuracy(y_test, y_prediction) \n",
    "print(accuracy_score_test)"
   ]
  },
  {
   "cell_type": "code",
   "execution_count": 62,
   "metadata": {},
   "outputs": [
    {
     "data": {
      "image/png": "[encoded data removed]",
      "text/plain": [
       "<Figure size 432x288 with 1 Axes>"
      ]
     },
     "metadata": {
      "needs_background": "light"
     },
     "output_type": "display_data"
    }
   ],
   "source": [
    "# plot the model decision boundary\n",
    "def plot_logistic(X_train, y_train, params): \n",
    "    n = X_train.shape[0]\n",
    "    xcord1, ycord1, xcord2, ycord2 = [], [], [], []\n",
    "    for i in range(n):\n",
    "        if y_train[i] == 1: \n",
    "            xcord1.append(X_train[i][0]) \n",
    "            ycord1.append(X_train[i][1])\n",
    "        else: \n",
    "            xcord2.append(X_train[i][0]) \n",
    "            ycord2.append(X_train[i][1])\n",
    "\n",
    "    fig = plt.figure()\n",
    "    ax = fig.add_subplot(111)\n",
    "    ax.scatter(xcord1, ycord1, s=32, c='red') \n",
    "    ax.scatter(xcord2, ycord2, s=32, c='green')\n",
    "    x = np.arange(-1.5, 3, 0.1)\n",
    "    y = (-params['b'] - params['w'][0]*x) / params['w'][1] \n",
    "    ax.plot(x, y)\n",
    "    plt.xlabel('X1')\n",
    "    plt.ylabel('X2')\n",
    "    plt.show()\n",
    "\n",
    "plot_logistic(X_train, y_train, params)"
   ]
  }
 ],
 "metadata": {
  "kernelspec": {
   "display_name": "Python 3.7.4 ('base')",
   "language": "python",
   "name": "python3"
  },
  "language_info": {
   "codemirror_mode": {
    "name": "ipython",
    "version": 3
   },
   "file_extension": ".py",
   "mimetype": "text/x-python",
   "name": "python",
   "nbconvert_exporter": "python",
   "pygments_lexer": "ipython3",
   "version": "3.7.4"
  },
  "orig_nbformat": 4,
  "vscode": {
   "interpreter": {
    "hash": "77183bd9d6786d4e91446bef4a81b437a8a214642262a83c9f17e3391316dc6f"
   }
  }
 },
 "nbformat": 4,
 "nbformat_minor": 2
}
