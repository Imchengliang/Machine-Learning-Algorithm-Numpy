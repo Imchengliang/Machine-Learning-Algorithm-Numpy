{
 "cells": [
  {
   "cell_type": "markdown",
   "metadata": {},
   "source": [
    "## Ridge"
   ]
  },
  {
   "cell_type": "markdown",
   "metadata": {},
   "source": [
    "The L2 norm refers to the root result of the sum of the squares of the elements in the matrix. The principle of regularization with L2 norm is to minimize each element of the parameter matrix so that it is infinitely close to 0 but not equal to 0 like L1 regulation.\n",
    "\n",
    "The linear regression loss function with L2 regularization added is shown below. The first term is the MSE loss, and the second term is the L2 regularization term.\n",
    "$$\n",
    "\\text{min}\\frac{1}{N}\\sum ^{N}_{i=1}L(y_{i}, f(x_{i}))+ \\frac{\\lambda}{2} ||w||^{2}\n",
    "$$\n",
    "\n",
    "L2 regularization is simpler to compute gradients than L1 regularization, directly taking the derivative of the loss function with respect to $w$. This regression model based on L2 regularization is the Ridge Regression."
   ]
  },
  {
   "cell_type": "code",
   "execution_count": 1,
   "metadata": {},
   "outputs": [],
   "source": [
    "import numpy as np\n",
    "import pandas as pd\n",
    "import matplotlib.pyplot as plt\n",
    "from sklearn.model_selection import train_test_split"
   ]
  },
  {
   "cell_type": "code",
   "execution_count": 2,
   "metadata": {},
   "outputs": [
    {
     "name": "stdout",
     "output_type": "stream",
     "text": [
      "(70, 101) (70, 1) (31, 101) (31, 1)\n"
     ]
    }
   ],
   "source": [
    "data = np.genfromtxt('data.dat', delimiter = ',')\n",
    "x = data[:,0:100]\n",
    "y = data[:,100].reshape(-1, 1)\n",
    "# add a column\n",
    "X = np.column_stack((np.ones((x.shape[0], 1)), x))\n",
    "\n",
    "# split training and test set\n",
    "X_train, y_train = X[:70], y[:70]\n",
    "X_test, y_test = X[70:], y[70:]\n",
    "print(X_train.shape, y_train.shape, X_test.shape, y_test.shape)"
   ]
  },
  {
   "cell_type": "code",
   "execution_count": 3,
   "metadata": {},
   "outputs": [],
   "source": [
    "# initialize the parameter\n",
    "def initialize(dims):\n",
    "    w = np.zeros((dims, 1)) \n",
    "    b=0\n",
    "    return w, b"
   ]
  },
  {
   "cell_type": "code",
   "execution_count": 9,
   "metadata": {},
   "outputs": [],
   "source": [
    "# define ridge loss function\n",
    "def l2_loss(X, y, w, b, alpha):\n",
    "    num_train = X.shape[0]\n",
    "    num_feature = X.shape[1]\n",
    "    # model function\n",
    "    y_hat = np.dot(X, w) + b\n",
    "    # loss function\n",
    "    loss = np.sum((y_hat-y)**2)/num_train + alpha*np.sum(np.square(w))\n",
    "    # partial derivatives of parameters\n",
    "    dw = np.dot(X.T, (y_hat-y))/num_train + 2*alpha*w\n",
    "    db = np.sum((y_hat-y)) / num_train\n",
    "    return y_hat, loss, dw, db"
   ]
  },
  {
   "cell_type": "code",
   "execution_count": 7,
   "metadata": {},
   "outputs": [],
   "source": [
    "# define training process\n",
    "def ridge_train(X, y, learning_rate=0.01, epochs=300):\n",
    "    w, b = initialize(X.shape[1])\n",
    "    loss_list = []\n",
    "    for i in range(1, epochs):\n",
    "        # calculate the current estimation, loss, and partial derivatives\n",
    "        y_hat, loss, dw, db = l2_loss(X, y, w ,b, 0.1)\n",
    "        loss_list.append(loss)\n",
    "        # update parameters based on gradient descent\n",
    "        w += -learning_rate * dw\n",
    "        b += -learning_rate * db\n",
    "\n",
    "        if i % 100 == 0:\n",
    "            print('epoch %d loss %f' % (i, loss))\n",
    "\n",
    "        # save parameters\n",
    "        params = {'w':w, 'b':b}\n",
    "        # save gradient\n",
    "        grads = {'dw':dw, 'db':db}\n",
    "\n",
    "    return loss_list, loss, params, grads"
   ]
  },
  {
   "cell_type": "code",
   "execution_count": 27,
   "metadata": {},
   "outputs": [
    {
     "name": "stdout",
     "output_type": "stream",
     "text": [
      "epoch 100 loss 1.272892\n",
      "epoch 200 loss 0.918566\n",
      "epoch 300 loss 0.824857\n",
      "epoch 400 loss 0.786619\n",
      "epoch 500 loss 0.767618\n",
      "epoch 600 loss 0.757040\n",
      "epoch 700 loss 0.750696\n",
      "epoch 800 loss 0.746687\n",
      "epoch 900 loss 0.744053\n"
     ]
    }
   ],
   "source": [
    "loss_list, loss, params, grads = ridge_train(X_train, y_train, 0.01, 1000)"
   ]
  },
  {
   "cell_type": "code",
   "execution_count": 13,
   "metadata": {},
   "outputs": [],
   "source": [
    "# define prediction function\n",
    "def predict(X, params): \n",
    "        w = params['w']\n",
    "        b = params['b']\n",
    "        y_pred = np.dot(X, w) + b \n",
    "        return y_pred"
   ]
  },
  {
   "cell_type": "code",
   "execution_count": 15,
   "metadata": {},
   "outputs": [
    {
     "name": "stdout",
     "output_type": "stream",
     "text": [
      "[[-0.07363409]\n",
      " [-2.23904964]\n",
      " [ 1.35392332]\n",
      " [-2.21912506]\n",
      " [-2.56515114]] [[ 0.24671]\n",
      " [-4.25711]\n",
      " [ 2.38642]\n",
      " [-1.87815]\n",
      " [-3.41362]]\n"
     ]
    }
   ],
   "source": [
    "y_pred = predict(X_test, params)\n",
    "print(y_pred[:5], y_test[:5])"
   ]
  },
  {
   "cell_type": "code",
   "execution_count": 16,
   "metadata": {},
   "outputs": [
    {
     "data": {
      "text/plain": [
       "-0.6338800998887388"
      ]
     },
     "execution_count": 16,
     "metadata": {},
     "output_type": "execute_result"
    }
   ],
   "source": [
    "from sklearn.metrics import r2_score\n",
    "r2_score(y_pred, y_test)"
   ]
  },
  {
   "cell_type": "code",
   "execution_count": 17,
   "metadata": {},
   "outputs": [
    {
     "data": {
      "image/png": "[encoded data removed]",
      "text/plain": [
       "<Figure size 432x288 with 1 Axes>"
      ]
     },
     "metadata": {
      "needs_background": "light"
     },
     "output_type": "display_data"
    }
   ],
   "source": [
    "# plot the prediction and actual data\n",
    "f = X_test.dot(params['w']) + params['b']\n",
    "plt.scatter(range(X_test.shape[0]), y_test)\n",
    "plt.plot(f, color = 'darkorange')\n",
    "plt.xlabel('X')\n",
    "plt.ylabel('y')\n",
    "plt.show()"
   ]
  },
  {
   "cell_type": "markdown",
   "metadata": {},
   "source": [
    "We can see that the model predictions fit the high and low values poorly, but fit most values. Such a model has relatively strong generalization ability and will not cause serious overfitting problems."
   ]
  },
  {
   "cell_type": "code",
   "execution_count": 29,
   "metadata": {},
   "outputs": [
    {
     "data": {
      "image/png": "[encoded data removed]",
      "text/plain": [
       "<Figure size 432x288 with 1 Axes>"
      ]
     },
     "metadata": {
      "needs_background": "light"
     },
     "output_type": "display_data"
    }
   ],
   "source": [
    "# plot the decline of loss during the training\n",
    "plt.plot(loss_list, color = 'blue')\n",
    "plt.xlabel('epochs')\n",
    "plt.ylabel('loss')\n",
    "plt.show()"
   ]
  },
  {
   "cell_type": "code",
   "execution_count": 25,
   "metadata": {},
   "outputs": [
    {
     "name": "stdout",
     "output_type": "stream",
     "text": [
      "sklearn Ridge intercept : [-0.40576153]\n",
      "\n",
      "sklearn Ridge coefficients :\n",
      " [[ 0.00000000e+00 -2.01786172e-01  5.45135248e-01  3.28370796e-01\n",
      "   7.88208577e-02  8.63329630e-01 -1.28629181e-01  8.98548367e-01\n",
      "  -4.15384520e-01  1.58905870e-01 -2.93807956e-02  6.32380717e-01\n",
      "   4.21771945e-02  9.24308741e-01  1.20277300e-01 -3.85333806e-01\n",
      "   1.63068579e-01  3.98963430e-01 -2.55902692e-02  8.88008417e-01\n",
      "   3.69510302e-02  5.63702626e-04 -1.74758205e-01  4.51826721e-01\n",
      "  -7.30107159e-02 -1.35017481e-01  5.39686001e-02 -4.02425081e-03\n",
      "  -6.07507156e-02  3.75631827e-01  8.57162815e-02  1.45771573e-01\n",
      "   1.44022204e-01  1.98972072e-01 -1.74729670e-01 -4.55411141e-02\n",
      "   2.10931708e-01 -4.20589474e-02 -1.16955409e-01 -3.48704701e-01\n",
      "   9.24987738e-02 -3.59919666e-02  3.12791851e-02  9.89341477e-02\n",
      "  -3.20373964e-02  5.01884867e-04  2.52601261e-02 -1.43870413e-01\n",
      "  -2.01630343e-01 -2.04659068e-02  1.39960583e-01 -2.40332862e-01\n",
      "   1.64551174e-01  1.05411007e-02 -1.27446721e-01 -8.05713152e-02\n",
      "   3.16799224e-01  2.97473607e-02 -3.62918779e-01 -4.33764143e-01\n",
      "   1.85767035e-01  2.22954621e-01 -9.97451115e-02  3.27282961e-02\n",
      "   2.41888947e-01 -2.56520012e-01 -9.21607311e-02 -1.32705556e-01\n",
      "  -3.01710290e-01  3.25678251e-01  3.98328108e-01 -3.75685067e-02\n",
      "   4.76284105e-01  4.66239153e-01  2.50059297e-01  3.35426970e-01\n",
      "  -3.25276476e-04 -5.62721088e-02  3.05320327e-03  2.27021494e-01\n",
      "   7.11869767e-02  1.96095806e-01 -4.35819139e-02 -1.69205809e-01\n",
      "  -2.33710367e-02 -1.70079831e-01 -1.29346798e-01 -3.03112649e-02\n",
      "   2.51270814e-01 -2.49230435e-01  6.83981071e-03 -2.30530011e-01\n",
      "   4.31418878e-01  2.76385366e-01  3.30323011e-01 -7.26567151e-03\n",
      "  -2.07740223e-01  2.47716612e-01  5.77447938e-02 -3.48931162e-01\n",
      "   1.59732296e-01]]\n"
     ]
    }
   ],
   "source": [
    "# ridge in sklearn\n",
    "from sklearn.linear_model import Ridge\n",
    "clf = Ridge(alpha=1.0)\n",
    "clf.fit(X_train, y_train)\n",
    "print(\"sklearn Ridge intercept :\", clf.intercept_)\n",
    "print(\"\\nsklearn Ridge coefficients :\\n\", clf.coef_)"
   ]
  }
 ],
 "metadata": {
  "kernelspec": {
   "display_name": "Python 3.8.2 64-bit",
   "language": "python",
   "name": "python3"
  },
  "language_info": {
   "codemirror_mode": {
    "name": "ipython",
    "version": 3
   },
   "file_extension": ".py",
   "mimetype": "text/x-python",
   "name": "python",
   "nbconvert_exporter": "python",
   "pygments_lexer": "ipython3",
   "version": "3.8.2"
  },
  "orig_nbformat": 4,
  "vscode": {
   "interpreter": {
    "hash": "aee8b7b246df8f9039afb4144a1f6fd8d2ca17a180786b69acc140d282b71a49"
   }
  }
 },
 "nbformat": 4,
 "nbformat_minor": 2
}
