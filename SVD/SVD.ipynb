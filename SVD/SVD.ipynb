{
 "cells": [
  {
   "cell_type": "markdown",
   "metadata": {},
   "source": [
    "## SVD"
   ]
  },
  {
   "cell_type": "markdown",
   "metadata": {},
   "source": [
    "SVD (Singular Value Decomposition) is a commonly used method for matrix decomposition and data dimension reduction. The key parts in this algorithm is eigenvalue and eigenvector."
   ]
  },
  {
   "cell_type": "code",
   "execution_count": 1,
   "metadata": {},
   "outputs": [],
   "source": [
    "import numpy as np\n",
    "import os\n",
    "from PIL import Image\n",
    "from tqdm import tqdm"
   ]
  },
  {
   "cell_type": "code",
   "execution_count": 3,
   "metadata": {},
   "outputs": [
    {
     "name": "stderr",
     "output_type": "stream",
     "text": [
      "100%|██████████| 50/50 [00:27<00:00,  1.81it/s]\n"
     ]
    }
   ],
   "source": [
    "def restore(u, s, v, K): \n",
    "    m, n = len(u), len(v[0])\n",
    "    a = np.zeros((m, n))\n",
    "    for k in range(K):\n",
    "        uk = u[:, k].reshape(m, 1)\n",
    "        vk = v[k].reshape(1, n)\n",
    "        # sum of first k singular value\n",
    "        a += s[k] * np.dot(uk, vk)   \n",
    "    a = a.clip(0, 255)\n",
    "    return np.rint(a).astype('uint8')\n",
    "\n",
    "A = np.array(Image.open(\"1.jpeg\", 'r'))\n",
    "# SVD of of RGB image\n",
    "u_r, s_r, v_r = np.linalg.svd(A[:, :, 0])    \n",
    "u_g, s_g, v_g = np.linalg.svd(A[:, :, 1])\n",
    "u_b, s_b, v_b = np.linalg.svd(A[:, :, 2])\n",
    "\n",
    "# use the first 50 singular value\n",
    "K = 50 \n",
    "output_path = r'./'\n",
    "# \n",
    "for k in tqdm(range(1, K+1, 10)):\n",
    "    R = restore(u_r, s_r, v_r, k)\n",
    "    G = restore(u_g, s_g, v_g, k)\n",
    "    B = restore(u_b, s_b, v_b, k)\n",
    "    I = np.stack((R, G, B), axis=2)   \n",
    "    Image.fromarray(I).save('%s\\\\svd_%d.jpg' % (output_path, k))"
   ]
  }
 ],
 "metadata": {
  "kernelspec": {
   "display_name": "Python 3.8.2 64-bit",
   "language": "python",
   "name": "python3"
  },
  "language_info": {
   "codemirror_mode": {
    "name": "ipython",
    "version": 3
   },
   "file_extension": ".py",
   "mimetype": "text/x-python",
   "name": "python",
   "nbconvert_exporter": "python",
   "pygments_lexer": "ipython3",
   "version": "3.8.2"
  },
  "orig_nbformat": 4,
  "vscode": {
   "interpreter": {
    "hash": "aee8b7b246df8f9039afb4144a1f6fd8d2ca17a180786b69acc140d282b71a49"
   }
  }
 },
 "nbformat": 4,
 "nbformat_minor": 2
}
