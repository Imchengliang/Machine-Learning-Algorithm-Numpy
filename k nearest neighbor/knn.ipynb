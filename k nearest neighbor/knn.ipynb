{
 "cells": [
  {
   "cell_type": "markdown",
   "metadata": {},
   "source": [
    "## KNN"
   ]
  },
  {
   "cell_type": "markdown",
   "metadata": {},
   "source": [
    "The definition of KNN algorithm: given a training data set, for a new input instance, find the k closest instances in the training set, and the new input belongs to the same class of the majority of the k instances.\n",
    "\n",
    "From the brief introduction of KNN, we can find out that it is an atypical supervised machine learning algorithm without complex mathematical theory behind it. Here are some key points of this algorithm. First, how to find the nearest neighbor, which is how do we measure the distance in the feature vector space. And then, how to choose the value of k. The last one is to choose a classification decision rule. \n",
    "\n",
    "For the measure of distance, it can be regarded as similarity measurement in KNN, which is the similarity of two instances in the feature space. In machine learning, the commonly used methods include Euclidean distance, Manhattan distance, cosine distance, Chebyshev distance, etc. In KNN, Euclidean distance is mostly used to measure distance, which is also called L2 distance, and its formula is shown as below:\n",
    "$$\n",
    "L_{2}\\left(x_{i}, x_{j}\\right)=\\left(\\sum_{l=1}^{n}\\left|x_{i}^{(l)}-x_{j}^{(l)}\\right|^{2}\\right)^{\\frac{1}{2}}\n",
    "$$\n",
    "\n",
    "For the selection of k value, the size of it has a significant impact on the classification. When the k value is small, it means that only few neighbors that are quite close to the instance would affect the classification. Meanwhile, the prediction would be very sensitive to these neighbors, so the classifier has poor noise immunity and is prone to overfitting. When the k value is too large, the classifier would make the prediction based on the large scale of neighbors. In this situation, The model becomes simple and corresponding classification error will also increase, resulting in a certain degree of underfitting. In general, we need to use cross-validation to find the proper k value.\n",
    "\n",
    "For the classification decision rule, majority voting method is commonly used in KNN. Some other methods are also can be used for some specific situations."
   ]
  },
  {
   "cell_type": "code",
   "execution_count": 1,
   "metadata": {},
   "outputs": [],
   "source": [
    "import numpy as np\n",
    "from collections import Counter\n",
    "import random\n",
    "import matplotlib.pyplot as plt\n",
    "from sklearn import datasets\n",
    "from sklearn.utils import shuffle \n",
    "\n",
    "iris = datasets.load_iris()\n",
    "\n",
    "plt.rcParams['figure.figsize'] = (10.0, 8.0)\n",
    "plt.rcParams['image.interpolation'] = 'nearest' \n",
    "plt.rcParams['image.cmap'] = 'gray'"
   ]
  },
  {
   "cell_type": "code",
   "execution_count": 2,
   "metadata": {},
   "outputs": [
    {
     "name": "stdout",
     "output_type": "stream",
     "text": [
      "X_train= (105, 4)\n",
      "X_test= (45, 4)\n",
      "y_train= (105, 1)\n",
      "y_test= (45, 1)\n"
     ]
    }
   ],
   "source": [
    "X, y = shuffle(iris.data, iris.target, random_state=13) \n",
    "X = X.astype(np.float32)\n",
    "\n",
    "offset = int(X.shape[0] * 0.7)\n",
    "X_train, y_train = X[:offset], y[:offset] \n",
    "X_test, y_test = X[offset:], y[offset:] \n",
    "y_train = y_train.reshape((-1,1))\n",
    "y_test = y_test.reshape((-1,1))\n",
    "\n",
    "print('X_train=', X_train.shape) \n",
    "print('X_test=', X_test.shape) \n",
    "print('y_train=', y_train.shape) \n",
    "print('y_test=', y_test.shape)"
   ]
  },
  {
   "cell_type": "code",
   "execution_count": 17,
   "metadata": {},
   "outputs": [],
   "source": [
    "# define the function to measure L2 distance\n",
    "def compute_distances(X):\n",
    "    num_test = X.shape[0]\n",
    "    num_train = X_train.shape[0]\n",
    "    dists = np.zeros((num_test, num_train))\n",
    "    M = np.dot(X, X_train.T)\n",
    "    te = np.square(X).sum(axis=1)\n",
    "    tr = np.square(X_train).sum(axis=1)\n",
    "    dists = np.sqrt(np.matrix(te).T + tr - 2*M) \n",
    "    return dists"
   ]
  },
  {
   "cell_type": "code",
   "execution_count": 18,
   "metadata": {},
   "outputs": [
    {
     "name": "stdout",
     "output_type": "stream",
     "text": [
      "(45, 105)\n"
     ]
    }
   ],
   "source": [
    "dists = compute_distances(X_test) \n",
    "print(dists.shape)"
   ]
  },
  {
   "cell_type": "code",
   "execution_count": 8,
   "metadata": {},
   "outputs": [
    {
     "data": {
      "image/png": "[encoded data removed]",
      "text/plain": [
       "<Figure size 432x288 with 1 Axes>"
      ]
     },
     "metadata": {
      "needs_background": "light"
     },
     "output_type": "display_data"
    }
   ],
   "source": [
    "plt.imshow(dists, interpolation='none') \n",
    "plt.show()"
   ]
  },
  {
   "cell_type": "code",
   "execution_count": 14,
   "metadata": {},
   "outputs": [],
   "source": [
    "# use majority voting to make the prediction, here assume the k value is 1\n",
    "def predict_labels(dists, k=1): \n",
    "    num_test = dists.shape[0]\n",
    "    y_pred = np.zeros(num_test)\n",
    "    for i in range(num_test):\n",
    "        closest_y = []\n",
    "        # argsort: order the elements in a list from small to large, and then extract their index into a new list\n",
    "        # flatten: switch the data into 1 dimension\n",
    "        labels = y_train[np.argsort(dists[i, :])].flatten() \n",
    "        closest_y = labels[0:k]\n",
    "        c = Counter(closest_y)\n",
    "        y_pred[i] = c.most_common(1)[0][0] \n",
    "    return y_pred"
   ]
  },
  {
   "cell_type": "code",
   "execution_count": 15,
   "metadata": {},
   "outputs": [
    {
     "name": "stdout",
     "output_type": "stream",
     "text": [
      "Got 44 / 45 correct => accuracy: 0.977778\n"
     ]
    }
   ],
   "source": [
    "y_test_pred = predict_labels(dists, k=1)\n",
    "y_test_pred = y_test_pred.reshape((-1, 1))\n",
    "num_correct = np.sum(y_test_pred == y_test)\n",
    "accuracy = float(num_correct) / X_test.shape[0]\n",
    "print('Got %d / %d correct => accuracy: %f' % (num_correct, X_test.shape[0], accuracy))"
   ]
  },
  {
   "cell_type": "code",
   "execution_count": 19,
   "metadata": {},
   "outputs": [
    {
     "name": "stdout",
     "output_type": "stream",
     "text": [
      "k = 1, accuracy = 1.000000\n",
      "k = 1, accuracy = 1.000000\n",
      "k = 1, accuracy = 1.000000\n",
      "k = 1, accuracy = 1.000000\n",
      "k = 1, accuracy = 1.000000\n",
      "k = 3, accuracy = 1.000000\n",
      "k = 3, accuracy = 1.000000\n",
      "k = 3, accuracy = 0.952381\n",
      "k = 3, accuracy = 0.857143\n",
      "k = 3, accuracy = 0.952381\n",
      "k = 5, accuracy = 1.000000\n",
      "k = 5, accuracy = 1.000000\n",
      "k = 5, accuracy = 0.952381\n",
      "k = 5, accuracy = 0.904762\n",
      "k = 5, accuracy = 0.952381\n",
      "k = 8, accuracy = 1.000000\n",
      "k = 8, accuracy = 1.000000\n",
      "k = 8, accuracy = 1.000000\n",
      "k = 8, accuracy = 0.904762\n",
      "k = 8, accuracy = 1.000000\n",
      "k = 10, accuracy = 1.000000\n",
      "k = 10, accuracy = 1.000000\n",
      "k = 10, accuracy = 1.000000\n",
      "k = 10, accuracy = 0.904762\n",
      "k = 10, accuracy = 1.000000\n",
      "k = 12, accuracy = 1.000000\n",
      "k = 12, accuracy = 1.000000\n",
      "k = 12, accuracy = 1.000000\n",
      "k = 12, accuracy = 0.904762\n",
      "k = 12, accuracy = 1.000000\n",
      "k = 15, accuracy = 1.000000\n",
      "k = 15, accuracy = 1.000000\n",
      "k = 15, accuracy = 0.952381\n",
      "k = 15, accuracy = 0.904762\n",
      "k = 15, accuracy = 1.000000\n",
      "k = 20, accuracy = 1.000000\n",
      "k = 20, accuracy = 1.000000\n",
      "k = 20, accuracy = 1.000000\n",
      "k = 20, accuracy = 0.904762\n",
      "k = 20, accuracy = 0.952381\n",
      "k = 50, accuracy = 1.000000\n",
      "k = 50, accuracy = 1.000000\n",
      "k = 50, accuracy = 1.000000\n",
      "k = 50, accuracy = 0.761905\n",
      "k = 50, accuracy = 1.000000\n",
      "k = 100, accuracy = 0.714286\n",
      "k = 100, accuracy = 0.761905\n",
      "k = 100, accuracy = 0.666667\n",
      "k = 100, accuracy = 0.666667\n",
      "k = 100, accuracy = 0.619048\n"
     ]
    }
   ],
   "source": [
    "num_folds = 5\n",
    "k_choices = [1, 3, 5, 8, 10, 12, 15, 20, 50, 100]\n",
    "\n",
    "X_train_folds = [] \n",
    "y_train_folds = []\n",
    "X_train_folds = np.array_split(X_train, num_folds) \n",
    "y_train_folds = np.array_split(y_train, num_folds) \n",
    "k_to_accuracies = {}\n",
    "for k in k_choices:\n",
    "    for fold in range(num_folds):\n",
    "        # divide a validation set from training set as a test set\n",
    "        validation_X_test = X_train_folds[fold]\n",
    "        validation_y_test = y_train_folds[fold]\n",
    "        temp_X_train = np.concatenate(X_train_folds[:fold] + X_train_folds[fold + 1:]) \n",
    "        temp_y_train = np.concatenate(y_train_folds[:fold] + y_train_folds[fold + 1:])\n",
    "        temp_dists = compute_distances(validation_X_test)\n",
    "        temp_y_test_pred = predict_labels(temp_dists, k=k)\n",
    "        temp_y_test_pred = temp_y_test_pred.reshape((-1, 1))\n",
    "        # check the accuracy of classification\n",
    "        num_correct = np.sum(temp_y_test_pred == validation_y_test)\n",
    "        num_test = validation_X_test.shape[0]\n",
    "        accuracy = float(num_correct) / num_test\n",
    "        k_to_accuracies[k] = k_to_accuracies.get(k,[]) + [accuracy]\n",
    "\n",
    "# print the accuracy of different under different folds \n",
    "for k in sorted(k_to_accuracies):\n",
    "    for accuracy in k_to_accuracies[k]:\n",
    "        print('k = %d, accuracy = %f' % (k, accuracy))"
   ]
  },
  {
   "cell_type": "code",
   "execution_count": 20,
   "metadata": {},
   "outputs": [
    {
     "data": {
      "image/png": "[encoded data removed]",
      "text/plain": [
       "<Figure size 432x288 with 1 Axes>"
      ]
     },
     "metadata": {
      "needs_background": "light"
     },
     "output_type": "display_data"
    }
   ],
   "source": [
    "for k in k_choices:\n",
    "    accuracies = k_to_accuracies[k] \n",
    "    plt.scatter([k] * len(accuracies), accuracies)\n",
    "\n",
    "accuracies_mean = np.array([np.mean(v) for k,v in sorted(k_to_accuracies.items())]) \n",
    "accuracies_std = np.array([np.std(v) for k,v in sorted(k_to_accuracies.items())]) \n",
    "plt.errorbar(k_choices, accuracies_mean, yerr=accuracies_std) \n",
    "plt.title('Cross-validation on k')\n",
    "plt.xlabel('k') \n",
    "plt.ylabel('Cross-validation accuracy') \n",
    "plt.show()"
   ]
  },
  {
   "cell_type": "code",
   "execution_count": 21,
   "metadata": {},
   "outputs": [
    {
     "name": "stdout",
     "output_type": "stream",
     "text": [
      "1\n"
     ]
    }
   ],
   "source": [
    "best_k = k_choices[np.argmax(accuracies_mean)] \n",
    "print(best_k)"
   ]
  }
 ],
 "metadata": {
  "kernelspec": {
   "display_name": "Python 3.7.4 ('base')",
   "language": "python",
   "name": "python3"
  },
  "language_info": {
   "codemirror_mode": {
    "name": "ipython",
    "version": 3
   },
   "file_extension": ".py",
   "mimetype": "text/x-python",
   "name": "python",
   "nbconvert_exporter": "python",
   "pygments_lexer": "ipython3",
   "version": "3.7.4"
  },
  "orig_nbformat": 4,
  "vscode": {
   "interpreter": {
    "hash": "77183bd9d6786d4e91446bef4a81b437a8a214642262a83c9f17e3391316dc6f"
   }
  }
 },
 "nbformat": 4,
 "nbformat_minor": 2
}
