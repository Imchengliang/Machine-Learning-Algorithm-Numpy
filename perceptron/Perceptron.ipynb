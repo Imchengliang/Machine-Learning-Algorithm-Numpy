{
 "cells": [
  {
   "cell_type": "markdown",
   "metadata": {},
   "source": [
    "## Perceptron"
   ]
  },
  {
   "cell_type": "markdown",
   "metadata": {},
   "source": [
    "Perceptron is a relatively simple binary classification model, and it is the basis of neural network and support vector machine. The perceptron is designed to learn a linear separating hyperplane that divides the input data into +1/-1, so overall the perceptron is a linear model. Perceptron works if and only if the data is linearly separated.\n",
    "\n",
    "Assuming that the input $x$ represents the feature vector of instance, and output $y=(+1, -1)$ is the category of instance. Then the perceptron defines the mapping function from input to output as follows:\n",
    "$$\n",
    "f(x) = \\operatorname{sign}(w*x +b)\n",
    "$$\n",
    "\n",
    "The sign function is:\n",
    "$$\n",
    "\\operatorname{sign}(x)= \\begin{cases}+1, & x \\geq 0 \\\\ -1, & x<0\\end{cases}\n",
    "$$\n",
    "\n",
    "$w$ and $b$ are the perceptron model parameters, which are also things that the perceptron needs to learn. The linear equation $w*x+b=0$ formed by $w$ and $b$ is a linear separating hyperplane. \n",
    "\n",
    "The training goal of perceptron is to find the linear separating hyperplane. So its loss function is defined as follow:\n",
    "$$\n",
    "L(w,b) = - \\sum _{x_{i} \\in M} y_{i}(w*x_{i}+b)\n",
    "$$\n",
    "\n",
    "To optimize this loss function, gradient descent can be used to update the parameters to minimize the loss function. Calculate the gradient of the loss function with respect to parameters $w$ and $b$ as follows:\n",
    "$$\n",
    "\\begin{gathered}\n",
    "\\nabla_{w} L(w, b)=-\\sum_{x_{i} \\in M} y_{i} x_{i} \\\\\n",
    "\\nabla_{b} L(w, b)=-\\sum_{x_{i} \\in M} y_{i}\n",
    "\\end{gathered}\n",
    "$$\n",
    "\n",
    "It can be seen from the above that the complete perceptron algorithm includes parameter initialization, and judges whether it is misclassified for each data point. If it is misclassified, the hyperplane parameters are updated according to the gradient descent method until there are no misclassified points."
   ]
  },
  {
   "cell_type": "code",
   "execution_count": 2,
   "metadata": {},
   "outputs": [
    {
     "data": {
      "image/png": "[encoded data removed]",
      "text/plain": [
       "<Figure size 432x288 with 1 Axes>"
      ]
     },
     "metadata": {
      "needs_background": "light"
     },
     "output_type": "display_data"
    }
   ],
   "source": [
    "import pandas as pd\n",
    "import numpy as np\n",
    "import matplotlib.pyplot as plt\n",
    "from sklearn.datasets import load_iris\n",
    "\n",
    "iris = load_iris()\n",
    "df = pd.DataFrame(iris.data, columns=iris.feature_names)\n",
    "df['label'] = iris.target\n",
    "df.columns = ['sepal length', 'sepal width', 'petal length', 'petal width', 'label']\n",
    "\n",
    "plt.scatter(df[:50]['sepal length'], df[:50]['sepal width'], c='red', label='0')\n",
    "plt.scatter(df[50:100]['sepal length'], df[50:100]['sepal width'], c='green', label='1')\n",
    "plt.xlabel('sepal length')\n",
    "plt.ylabel('sepal width') \n",
    "plt.legend()\n",
    "plt.show()"
   ]
  },
  {
   "cell_type": "code",
   "execution_count": 3,
   "metadata": {},
   "outputs": [
    {
     "data": {
      "text/html": [
       "<div>\n",
       "<style scoped>\n",
       "    .dataframe tbody tr th:only-of-type {\n",
       "        vertical-align: middle;\n",
       "    }\n",
       "\n",
       "    .dataframe tbody tr th {\n",
       "        vertical-align: top;\n",
       "    }\n",
       "\n",
       "    .dataframe thead th {\n",
       "        text-align: right;\n",
       "    }\n",
       "</style>\n",
       "<table border=\"1\" class=\"dataframe\">\n",
       "  <thead>\n",
       "    <tr style=\"text-align: right;\">\n",
       "      <th></th>\n",
       "      <th>sepal length</th>\n",
       "      <th>sepal width</th>\n",
       "      <th>petal length</th>\n",
       "      <th>petal width</th>\n",
       "      <th>label</th>\n",
       "    </tr>\n",
       "  </thead>\n",
       "  <tbody>\n",
       "    <tr>\n",
       "      <th>0</th>\n",
       "      <td>5.1</td>\n",
       "      <td>3.5</td>\n",
       "      <td>1.4</td>\n",
       "      <td>0.2</td>\n",
       "      <td>0</td>\n",
       "    </tr>\n",
       "    <tr>\n",
       "      <th>1</th>\n",
       "      <td>4.9</td>\n",
       "      <td>3.0</td>\n",
       "      <td>1.4</td>\n",
       "      <td>0.2</td>\n",
       "      <td>0</td>\n",
       "    </tr>\n",
       "    <tr>\n",
       "      <th>2</th>\n",
       "      <td>4.7</td>\n",
       "      <td>3.2</td>\n",
       "      <td>1.3</td>\n",
       "      <td>0.2</td>\n",
       "      <td>0</td>\n",
       "    </tr>\n",
       "    <tr>\n",
       "      <th>3</th>\n",
       "      <td>4.6</td>\n",
       "      <td>3.1</td>\n",
       "      <td>1.5</td>\n",
       "      <td>0.2</td>\n",
       "      <td>0</td>\n",
       "    </tr>\n",
       "    <tr>\n",
       "      <th>4</th>\n",
       "      <td>5.0</td>\n",
       "      <td>3.6</td>\n",
       "      <td>1.4</td>\n",
       "      <td>0.2</td>\n",
       "      <td>0</td>\n",
       "    </tr>\n",
       "    <tr>\n",
       "      <th>...</th>\n",
       "      <td>...</td>\n",
       "      <td>...</td>\n",
       "      <td>...</td>\n",
       "      <td>...</td>\n",
       "      <td>...</td>\n",
       "    </tr>\n",
       "    <tr>\n",
       "      <th>145</th>\n",
       "      <td>6.7</td>\n",
       "      <td>3.0</td>\n",
       "      <td>5.2</td>\n",
       "      <td>2.3</td>\n",
       "      <td>2</td>\n",
       "    </tr>\n",
       "    <tr>\n",
       "      <th>146</th>\n",
       "      <td>6.3</td>\n",
       "      <td>2.5</td>\n",
       "      <td>5.0</td>\n",
       "      <td>1.9</td>\n",
       "      <td>2</td>\n",
       "    </tr>\n",
       "    <tr>\n",
       "      <th>147</th>\n",
       "      <td>6.5</td>\n",
       "      <td>3.0</td>\n",
       "      <td>5.2</td>\n",
       "      <td>2.0</td>\n",
       "      <td>2</td>\n",
       "    </tr>\n",
       "    <tr>\n",
       "      <th>148</th>\n",
       "      <td>6.2</td>\n",
       "      <td>3.4</td>\n",
       "      <td>5.4</td>\n",
       "      <td>2.3</td>\n",
       "      <td>2</td>\n",
       "    </tr>\n",
       "    <tr>\n",
       "      <th>149</th>\n",
       "      <td>5.9</td>\n",
       "      <td>3.0</td>\n",
       "      <td>5.1</td>\n",
       "      <td>1.8</td>\n",
       "      <td>2</td>\n",
       "    </tr>\n",
       "  </tbody>\n",
       "</table>\n",
       "<p>150 rows × 5 columns</p>\n",
       "</div>"
      ],
      "text/plain": [
       "     sepal length  sepal width  petal length  petal width  label\n",
       "0             5.1          3.5           1.4          0.2      0\n",
       "1             4.9          3.0           1.4          0.2      0\n",
       "2             4.7          3.2           1.3          0.2      0\n",
       "3             4.6          3.1           1.5          0.2      0\n",
       "4             5.0          3.6           1.4          0.2      0\n",
       "..            ...          ...           ...          ...    ...\n",
       "145           6.7          3.0           5.2          2.3      2\n",
       "146           6.3          2.5           5.0          1.9      2\n",
       "147           6.5          3.0           5.2          2.0      2\n",
       "148           6.2          3.4           5.4          2.3      2\n",
       "149           5.9          3.0           5.1          1.8      2\n",
       "\n",
       "[150 rows x 5 columns]"
      ]
     },
     "execution_count": 3,
     "metadata": {},
     "output_type": "execute_result"
    }
   ],
   "source": [
    "df"
   ]
  },
  {
   "cell_type": "code",
   "execution_count": 4,
   "metadata": {},
   "outputs": [],
   "source": [
    "# take 2 columns of data and switch their labels into 1/-1\n",
    "data = np.array(df.iloc[:100, [0, 1, -1]])\n",
    "X, y = data[:,:-1], data[:,-1]\n",
    "y = np.array([1 if i==1 else -1 for i in y])"
   ]
  },
  {
   "cell_type": "code",
   "execution_count": 5,
   "metadata": {},
   "outputs": [],
   "source": [
    "# initialize parameters\n",
    "def initilize_with_zeros(dim):\n",
    "    w = np.zeros(dim) \n",
    "    b = 0.0\n",
    "    return w, b"
   ]
  },
  {
   "cell_type": "code",
   "execution_count": 6,
   "metadata": {},
   "outputs": [],
   "source": [
    "# define sign function\n",
    "def sign(x, w, b):\n",
    "    return np.dot(x,w)+b"
   ]
  },
  {
   "cell_type": "code",
   "execution_count": 8,
   "metadata": {},
   "outputs": [],
   "source": [
    "# define perpectron training function\n",
    "def train(X_train, y_train, learning_rate):\n",
    "    w, b = initilize_with_zeros(X_train.shape[1])\n",
    "    # initialize the misclassification\n",
    "    is_wrong = False\n",
    "    while not is_wrong:\n",
    "        wrong_count = 0\n",
    "        for i in range(len(X_train)):\n",
    "            X = X_train[i]\n",
    "            y = y_train[i]\n",
    "            # if there is misclassification, update the parameters until no misclassification exits\n",
    "            if y*sign(X, w, b) <= 0:\n",
    "                w = w + learning_rate*np.dot(y, X) \n",
    "                b = b + learning_rate*y \n",
    "                wrong_count += 1\n",
    "        if wrong_count == 0:\n",
    "            is_wrong = True\n",
    "            print('There is no misclassification!')\n",
    "\n",
    "        # save the updated parameters\n",
    "        params = {'w': w, 'b': b}\n",
    "\n",
    "    return params"
   ]
  },
  {
   "cell_type": "code",
   "execution_count": 9,
   "metadata": {},
   "outputs": [
    {
     "name": "stdout",
     "output_type": "stream",
     "text": [
      "There is no missclassification!\n"
     ]
    },
    {
     "data": {
      "text/plain": [
       "{'w': array([ 0.79 , -1.007]), 'b': -1.2400000000000009}"
      ]
     },
     "execution_count": 9,
     "metadata": {},
     "output_type": "execute_result"
    }
   ],
   "source": [
    "# train the data\n",
    "params = train(X, y, 0.01) \n",
    "params"
   ]
  },
  {
   "cell_type": "code",
   "execution_count": 11,
   "metadata": {},
   "outputs": [
    {
     "data": {
      "image/png": "[encoded data removed]",
      "text/plain": [
       "<Figure size 432x288 with 1 Axes>"
      ]
     },
     "metadata": {
      "needs_background": "light"
     },
     "output_type": "display_data"
    }
   ],
   "source": [
    "x_points = np.linspace(4, 7, 10)\n",
    "y_hat = -(params['w'][0]*x_points + params['b'])/params['w'][1]\n",
    "plt.plot(x_points, y_hat)\n",
    "\n",
    "plt.scatter(data[:50, 0], data[:50, 1], color='red', label='0')\n",
    "plt.scatter(data[50:100, 0], data[50:100, 1], color='green', label='1')\n",
    "plt.xlabel('sepal length')\n",
    "plt.ylabel('sepal width')\n",
    "plt.legend()\n",
    "plt.show()"
   ]
  }
 ],
 "metadata": {
  "kernelspec": {
   "display_name": "Python 3.7.4 ('base')",
   "language": "python",
   "name": "python3"
  },
  "language_info": {
   "codemirror_mode": {
    "name": "ipython",
    "version": 3
   },
   "file_extension": ".py",
   "mimetype": "text/x-python",
   "name": "python",
   "nbconvert_exporter": "python",
   "pygments_lexer": "ipython3",
   "version": "3.7.4"
  },
  "orig_nbformat": 4,
  "vscode": {
   "interpreter": {
    "hash": "77183bd9d6786d4e91446bef4a81b437a8a214642262a83c9f17e3391316dc6f"
   }
  }
 },
 "nbformat": 4,
 "nbformat_minor": 2
}
